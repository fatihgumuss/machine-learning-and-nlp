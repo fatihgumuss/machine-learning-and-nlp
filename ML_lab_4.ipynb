{
  "cells": [
    {
      "cell_type": "markdown",
      "metadata": {
        "id": "view-in-github",
        "colab_type": "text"
      },
      "source": [
        "<a href=\"https://colab.research.google.com/github/fatihgumuss/machine-learning-and-nlp/blob/main/ML_lab_4.ipynb\" target=\"_parent\"><img src=\"https://colab.research.google.com/assets/colab-badge.svg\" alt=\"Open In Colab\"/></a>"
      ]
    },
    {
      "cell_type": "code",
      "execution_count": null,
      "metadata": {
        "colab": {
          "base_uri": "https://localhost:8080/"
        },
        "id": "wimg0eMB-V6y",
        "outputId": "79a7e232-ceed-4222-97df-68975d6dfd4a"
      },
      "outputs": [
        {
          "name": "stdout",
          "output_type": "stream",
          "text": [
            "Downloading data from https://storage.googleapis.com/tensorflow/tf-keras-datasets/mnist.npz\n",
            "11490434/11490434 [==============================] - 0s 0us/step\n"
          ]
        }
      ],
      "source": [
        "\n",
        "import numpy as np # linear algebra\n",
        "from keras.datasets import mnist\n",
        "\n",
        "(X_train, Y_train), (X_test, Y_test) = mnist.load_data()\n",
        "\n"
      ]
    },
    {
      "cell_type": "code",
      "execution_count": null,
      "metadata": {
        "colab": {
          "base_uri": "https://localhost:8080/",
          "height": 406
        },
        "id": "2Jtagji--nii",
        "outputId": "3369d343-d0cc-4806-cce8-e260be23e7fd"
      },
      "outputs": [
        {
          "data": {
            "image/png": "[encoded data removed]",
            "text/plain": [
              "<Figure size 640x480 with 9 Axes>"
            ]
          },
          "metadata": {},
          "output_type": "display_data"
        }
      ],
      "source": [
        "import matplotlib.pyplot as plt\n",
        "import matplotlib.cm as cm\n",
        "for i in range(9):\n",
        "    plt.subplot(3, 3, i+1)\n",
        "    plt.imshow(X_train[i], cmap='gray')\n",
        "    plt.axis(\"off\")"
      ]
    },
    {
      "cell_type": "code",
      "execution_count": null,
      "metadata": {
        "colab": {
          "base_uri": "https://localhost:8080/"
        },
        "id": "saGMxn1trD49",
        "outputId": "eb484c6e-3ecc-49a2-e606-0bd3c890522d"
      },
      "outputs": [
        {
          "data": {
            "text/plain": [
              "array([[  0,   0,   0,   0,   0,   0,   0,   0,   0,   0,   0,   0,   0,\n",
              "          0,   0,   0,   0,   0,   0,   0,   0,   0,   0,   0,   0,   0,\n",
              "          0,   0],\n",
              "       [  0,   0,   0,   0,   0,   0,   0,   0,   0,   0,   0,   0,   0,\n",
              "          0,   0,   0,   0,   0,   0,   0,   0,   0,   0,   0,   0,   0,\n",
              "          0,   0],\n",
              "       [  0,   0,   0,   0,   0,   0,   0,   0,   0,   0,   0,   0,   0,\n",
              "          0,   0,   0,   0,   0,   0,   0,   0,   0,   0,   0,   0,   0,\n",
              "          0,   0],\n",
              "       [  0,   0,   0,   0,   0,   0,   0,   0,   0,   0,   0,   0,   0,\n",
              "          0,   0,   0,   0,   0,   0,   0,   0,   0,   0,   0,   0,   0,\n",
              "          0,   0],\n",
              "       [  0,   0,   0,   0,   0,   0,   0,   0,   0,   0,   0,   0,   0,\n",
              "          0,   0,   0,   0,   0,   0,   0,   0,   0,   0,   0,   0,   0,\n",
              "          0,   0],\n",
              "       [  0,   0,   0,   0,   0,   0,   0,   0,   0,   0,   0,   0,   3,\n",
              "         18,  18,  18, 126, 136, 175,  26, 166, 255, 247, 127,   0,   0,\n",
              "          0,   0],\n",
              "       [  0,   0,   0,   0,   0,   0,   0,   0,  30,  36,  94, 154, 170,\n",
              "        253, 253, 253, 253, 253, 225, 172, 253, 242, 195,  64,   0,   0,\n",
              "          0,   0],\n",
              "       [  0,   0,   0,   0,   0,   0,   0,  49, 238, 253, 253, 253, 253,\n",
              "        253, 253, 253, 253, 251,  93,  82,  82,  56,  39,   0,   0,   0,\n",
              "          0,   0],\n",
              "       [  0,   0,   0,   0,   0,   0,   0,  18, 219, 253, 253, 253, 253,\n",
              "        253, 198, 182, 247, 241,   0,   0,   0,   0,   0,   0,   0,   0,\n",
              "          0,   0],\n",
              "       [  0,   0,   0,   0,   0,   0,   0,   0,  80, 156, 107, 253, 253,\n",
              "        205,  11,   0,  43, 154,   0,   0,   0,   0,   0,   0,   0,   0,\n",
              "          0,   0],\n",
              "       [  0,   0,   0,   0,   0,   0,   0,   0,   0,  14,   1, 154, 253,\n",
              "         90,   0,   0,   0,   0,   0,   0,   0,   0,   0,   0,   0,   0,\n",
              "          0,   0],\n",
              "       [  0,   0,   0,   0,   0,   0,   0,   0,   0,   0,   0, 139, 253,\n",
              "        190,   2,   0,   0,   0,   0,   0,   0,   0,   0,   0,   0,   0,\n",
              "          0,   0],\n",
              "       [  0,   0,   0,   0,   0,   0,   0,   0,   0,   0,   0,  11, 190,\n",
              "        253,  70,   0,   0,   0,   0,   0,   0,   0,   0,   0,   0,   0,\n",
              "          0,   0],\n",
              "       [  0,   0,   0,   0,   0,   0,   0,   0,   0,   0,   0,   0,  35,\n",
              "        241, 225, 160, 108,   1,   0,   0,   0,   0,   0,   0,   0,   0,\n",
              "          0,   0],\n",
              "       [  0,   0,   0,   0,   0,   0,   0,   0,   0,   0,   0,   0,   0,\n",
              "         81, 240, 253, 253, 119,  25,   0,   0,   0,   0,   0,   0,   0,\n",
              "          0,   0],\n",
              "       [  0,   0,   0,   0,   0,   0,   0,   0,   0,   0,   0,   0,   0,\n",
              "          0,  45, 186, 253, 253, 150,  27,   0,   0,   0,   0,   0,   0,\n",
              "          0,   0],\n",
              "       [  0,   0,   0,   0,   0,   0,   0,   0,   0,   0,   0,   0,   0,\n",
              "          0,   0,  16,  93, 252, 253, 187,   0,   0,   0,   0,   0,   0,\n",
              "          0,   0],\n",
              "       [  0,   0,   0,   0,   0,   0,   0,   0,   0,   0,   0,   0,   0,\n",
              "          0,   0,   0,   0, 249, 253, 249,  64,   0,   0,   0,   0,   0,\n",
              "          0,   0],\n",
              "       [  0,   0,   0,   0,   0,   0,   0,   0,   0,   0,   0,   0,   0,\n",
              "          0,  46, 130, 183, 253, 253, 207,   2,   0,   0,   0,   0,   0,\n",
              "          0,   0],\n",
              "       [  0,   0,   0,   0,   0,   0,   0,   0,   0,   0,   0,   0,  39,\n",
              "        148, 229, 253, 253, 253, 250, 182,   0,   0,   0,   0,   0,   0,\n",
              "          0,   0],\n",
              "       [  0,   0,   0,   0,   0,   0,   0,   0,   0,   0,  24, 114, 221,\n",
              "        253, 253, 253, 253, 201,  78,   0,   0,   0,   0,   0,   0,   0,\n",
              "          0,   0],\n",
              "       [  0,   0,   0,   0,   0,   0,   0,   0,  23,  66, 213, 253, 253,\n",
              "        253, 253, 198,  81,   2,   0,   0,   0,   0,   0,   0,   0,   0,\n",
              "          0,   0],\n",
              "       [  0,   0,   0,   0,   0,   0,  18, 171, 219, 253, 253, 253, 253,\n",
              "        195,  80,   9,   0,   0,   0,   0,   0,   0,   0,   0,   0,   0,\n",
              "          0,   0],\n",
              "       [  0,   0,   0,   0,  55, 172, 226, 253, 253, 253, 253, 244, 133,\n",
              "         11,   0,   0,   0,   0,   0,   0,   0,   0,   0,   0,   0,   0,\n",
              "          0,   0],\n",
              "       [  0,   0,   0,   0, 136, 253, 253, 253, 212, 135, 132,  16,   0,\n",
              "          0,   0,   0,   0,   0,   0,   0,   0,   0,   0,   0,   0,   0,\n",
              "          0,   0],\n",
              "       [  0,   0,   0,   0,   0,   0,   0,   0,   0,   0,   0,   0,   0,\n",
              "          0,   0,   0,   0,   0,   0,   0,   0,   0,   0,   0,   0,   0,\n",
              "          0,   0],\n",
              "       [  0,   0,   0,   0,   0,   0,   0,   0,   0,   0,   0,   0,   0,\n",
              "          0,   0,   0,   0,   0,   0,   0,   0,   0,   0,   0,   0,   0,\n",
              "          0,   0],\n",
              "       [  0,   0,   0,   0,   0,   0,   0,   0,   0,   0,   0,   0,   0,\n",
              "          0,   0,   0,   0,   0,   0,   0,   0,   0,   0,   0,   0,   0,\n",
              "          0,   0]], dtype=uint8)"
            ]
          },
          "execution_count": 3,
          "metadata": {},
          "output_type": "execute_result"
        }
      ],
      "source": [
        "X_train[0]"
      ]
    },
    {
      "cell_type": "code",
      "execution_count": null,
      "metadata": {
        "colab": {
          "base_uri": "https://localhost:8080/"
        },
        "id": "ZorpvvFW-V63",
        "outputId": "5025fd5c-3f26-4184-b9d5-d1401866df31"
      },
      "outputs": [
        {
          "name": "stdout",
          "output_type": "stream",
          "text": [
            "X_train.shape (60000, 784)\n",
            "X_test.shape (10000, 784)\n"
          ]
        }
      ],
      "source": [
        "X_train = X_train.reshape(60000, 784)\n",
        "X_test = X_test.reshape(10000, 784)\n",
        "\n",
        "X_train = X_train/255.0\n",
        "X_test = X_test/255.0\n",
        "\n",
        "print(\"X_train.shape\", X_train.shape)\n",
        "print(\"X_test.shape\", X_test.shape)"
      ]
    },
    {
      "cell_type": "code",
      "execution_count": null,
      "metadata": {
        "id": "tooZZwDB-V6_"
      },
      "outputs": [],
      "source": [
        "def init_params():\n",
        "    # TODO: initialize weight with np.random.normal\n",
        "    W1 = np.random.normal(size=(120, 784))\n",
        "    b1 = np.random.normal(size=(120, 1))\n",
        "    W2 = np.random.normal(size=(10, 120))\n",
        "    b2 = np.random.normal(size=(10, 1))\n",
        "    return W1, b1, W2, b2\n",
        "\n",
        "def RelU(Z):\n",
        "    return np.maximum(0, Z)\n",
        "\n",
        "def softmax(Z):\n",
        "    exp = np.exp(Z - np.max(Z))\n",
        "    return exp / exp.sum(axis=0)\n",
        "\n",
        "\n",
        "\n",
        "def forward_prop(W1, b1, W2, b2, X):\n",
        "    Z1 = np.dot(W1, X.T) + b1\n",
        "    A1 = RelU(Z1)\n",
        "    Z2 = np.dot(W2, A1) + b2\n",
        "    A2 = softmax(Z2)\n",
        "    return Z1, A1, Z2, A2\n",
        "\n",
        "\n",
        "def one_hot(Y):\n",
        "    #TODO: implement one-hot encoding function 5 -> [0 0 0 0 0 1 0 0 0 0]   8 - > [0 0 0 0 0 0 0 0  0 1 0]\n",
        "    one_hot_Y = np.zeros((Y.size, Y.max() + 1))\n",
        "    one_hot_Y[np.arange(Y.size), Y] = 1\n",
        "    return one_hot_Y.T\n",
        "\n",
        "def deriv_Relu(Z):\n",
        "    return Z>0\n",
        "\n",
        "def back_prop(Z1, A1, Z2, A2, W2, X, Y, loss):\n",
        "    #convert Y to one-hot encoding\n",
        "    one_hot_Y = one_hot(Y)\n",
        "    #calculate loss and append to global variable loss\n",
        "    loss_value = -np.sum(one_hot_Y * np.log(A2 + 1e-8)) / Y.size\n",
        "    loss.append(loss_value)\n",
        "\n",
        "    dZ2 = A2 - one_hot_Y\n",
        "\n",
        "    dW2 = np.dot(dZ2, A1.T) / Y.size\n",
        "\n",
        "    db2 = np.mean(dZ2, axis=1, keepdims=True)\n",
        "\n",
        "    dZ1 = np.dot(W2.T, dZ2) * deriv_Relu(Z1)\n",
        "\n",
        "    dW1 = np.dot(dZ1, X) / Y.size\n",
        "\n",
        "    db1 = np.mean(dZ1, axis=1, keepdims=True)\n",
        "\n",
        "    return dW1, db1, dW2, db2\n",
        "\n",
        "def update_params(W1, b1, W2, b2, dW1, db1, dW2, db2, alpha):\n",
        "\n",
        "    W1 = W1 - alpha * dW1\n",
        "    b1 = b1 - alpha * db1\n",
        "    W2 = W2 - alpha * dW2\n",
        "    b2 = b2 - alpha * db2\n",
        "\n",
        "    return W1, b1, W2, b2\n"
      ]
    },
    {
      "cell_type": "code",
      "execution_count": null,
      "metadata": {
        "id": "CIvesbcz-V7B"
      },
      "outputs": [],
      "source": [
        "def get_predictions(A2):\n",
        "    return np.argmax(A2,0)\n",
        "\n",
        "def  get_accuracy(predictions, Y):\n",
        "    print(predictions, Y)\n",
        "\n",
        "    return np.sum(predictions==Y)/Y.size\n",
        "\n",
        "def gradient_descent(X, Y, iterations, alpha, loss, ite):\n",
        "    W1, b1, W2, b2 = init_params()\n",
        "    for i in range(iterations):\n",
        "        Z1, A1, Z2, A2 = forward_prop(W1, b1, W2, b2, X)\n",
        "        dW1, db1, dW2, db2 = back_prop(Z1, A1, Z2, A2, W2, X, Y, loss)\n",
        "        W1, b1, W2, b2 = update_params(W1, b1, W2, b2, dW1, db1, dW2, db2, alpha)\n",
        "        ite.append(i)\n",
        "        if(i%10==0):\n",
        "            print(f\"iteration:{i}\")\n",
        "            print(\"Accuracy\", get_accuracy(get_predictions(A2), Y))\n",
        "    return W1, b1, W2, b2\n"
      ]
    },
    {
      "cell_type": "code",
      "execution_count": null,
      "metadata": {
        "colab": {
          "background_save": true,
          "base_uri": "https://localhost:8080/"
        },
        "id": "cvY9OBKcGuZj",
        "outputId": "bd1ff8e2-68ba-4d29-e3e2-63c73d46809e"
      },
      "outputs": [
        {
          "name": "stdout",
          "output_type": "stream",
          "text": [
            "iteration:0\n",
            "[6 3 5 ... 6 3 2] [5 0 4 ... 5 6 8]\n",
            "Accuracy 0.055933333333333335\n",
            "iteration:10\n",
            "[3 0 0 ... 7 0 5] [5 0 4 ... 5 6 8]\n",
            "Accuracy 0.5473166666666667\n",
            "iteration:20\n",
            "[3 0 0 ... 5 0 5] [5 0 4 ... 5 6 8]\n",
            "Accuracy 0.6024833333333334\n",
            "iteration:30\n",
            "[3 0 4 ... 5 0 0] [5 0 4 ... 5 6 8]\n",
            "Accuracy 0.6373666666666666\n",
            "iteration:40\n",
            "[3 0 4 ... 5 0 0] [5 0 4 ... 5 6 8]\n",
            "Accuracy 0.65925\n",
            "iteration:50\n",
            "[3 0 4 ... 5 0 0] [5 0 4 ... 5 6 8]\n",
            "Accuracy 0.6739166666666667\n",
            "iteration:60\n",
            "[3 0 4 ... 5 0 0] [5 0 4 ... 5 6 8]\n",
            "Accuracy 0.68625\n",
            "iteration:70\n",
            "[3 0 4 ... 5 0 0] [5 0 4 ... 5 6 8]\n",
            "Accuracy 0.69655\n",
            "iteration:80\n",
            "[3 0 4 ... 5 0 0] [5 0 4 ... 5 6 8]\n",
            "Accuracy 0.7069666666666666\n",
            "iteration:90\n",
            "[3 0 4 ... 5 0 0] [5 0 4 ... 5 6 8]\n",
            "Accuracy 0.7159333333333333\n",
            "iteration:100\n",
            "[3 0 4 ... 5 0 0] [5 0 4 ... 5 6 8]\n",
            "Accuracy 0.7243166666666667\n",
            "iteration:110\n",
            "[3 0 4 ... 5 0 0] [5 0 4 ... 5 6 8]\n",
            "Accuracy 0.7316166666666667\n",
            "iteration:120\n",
            "[3 0 4 ... 5 0 0] [5 0 4 ... 5 6 8]\n",
            "Accuracy 0.7388\n",
            "iteration:130\n",
            "[3 0 4 ... 5 0 0] [5 0 4 ... 5 6 8]\n",
            "Accuracy 0.7450833333333333\n",
            "iteration:140\n",
            "[3 0 4 ... 5 0 0] [5 0 4 ... 5 6 8]\n",
            "Accuracy 0.7518833333333333\n",
            "iteration:150\n",
            "[3 0 4 ... 5 0 0] [5 0 4 ... 5 6 8]\n",
            "Accuracy 0.758\n",
            "iteration:160\n",
            "[3 0 4 ... 5 0 0] [5 0 4 ... 5 6 8]\n",
            "Accuracy 0.7635166666666666\n",
            "iteration:170\n",
            "[3 0 4 ... 5 0 0] [5 0 4 ... 5 6 8]\n",
            "Accuracy 0.7695\n",
            "iteration:180\n",
            "[3 0 4 ... 5 0 0] [5 0 4 ... 5 6 8]\n",
            "Accuracy 0.77465\n",
            "iteration:190\n",
            "[3 0 4 ... 5 0 0] [5 0 4 ... 5 6 8]\n",
            "Accuracy 0.7808666666666667\n"
          ]
        }
      ],
      "source": [
        "loss = []\n",
        "ite = []\n",
        "W1, b1, W2, b2 = gradient_descent(X_train, Y_train, 200, 0.5, loss, ite)"
      ]
    },
    {
      "cell_type": "code",
      "execution_count": null,
      "metadata": {
        "colab": {
          "background_save": true
        },
        "id": "Z2J5ePgu-V7D"
      },
      "outputs": [],
      "source": [
        "sample_input_X = X_train[0]\n",
        "_, _, _, A2 = forward_prop(W1, b1, W2, b2, sample_input_X)"
      ]
    },
    {
      "cell_type": "code",
      "execution_count": null,
      "metadata": {
        "colab": {
          "background_save": true
        },
        "id": "F46RPtmm-V7D",
        "outputId": "54a6bcd4-aa42-43a6-ddce-2cd0aa5baf0f"
      },
      "outputs": [
        {
          "data": {
            "text/plain": [
              "array([[0.04669296, 0.04669296, 0.04669296, ..., 0.04669296, 0.04669296,\n",
              "        0.04669296],\n",
              "       [0.02881845, 0.02881845, 0.02881845, ..., 0.02881845, 0.02881845,\n",
              "        0.02881845],\n",
              "       [0.09733264, 0.09733264, 0.09733264, ..., 0.09733264, 0.09733264,\n",
              "        0.09733264],\n",
              "       ...,\n",
              "       [0.05566611, 0.05566611, 0.05566611, ..., 0.05566611, 0.05566611,\n",
              "        0.05566611],\n",
              "       [0.21439567, 0.21439567, 0.21439567, ..., 0.21439567, 0.21439567,\n",
              "        0.21439567],\n",
              "       [0.18199521, 0.18199521, 0.18199521, ..., 0.18199521, 0.18199521,\n",
              "        0.18199521]])"
            ]
          },
          "execution_count": 9,
          "metadata": {},
          "output_type": "execute_result"
        }
      ],
      "source": [
        "A2"
      ]
    },
    {
      "cell_type": "code",
      "execution_count": null,
      "metadata": {
        "colab": {
          "background_save": true
        },
        "id": "5F_JZ9tg-V7E"
      },
      "outputs": [],
      "source": [
        "def make_predictions(X, W1, b1, W2, b2):\n",
        "    _, _, _, A2 = forward_prop(W1, b1, W2, b2, X)\n",
        "    predictions = get_predictions(A2)\n",
        "    return predictions\n",
        "\n",
        "def test_prediction(index, W1, b1, W2, b2):\n",
        "    current_image = X_train[index]\n",
        "    prediction = make_predictions(current_image.reshape(1, -1), W1, b1, W2, b2)[0]\n",
        "    label = Y_train[index]\n",
        "    print(\"Prediction: \", prediction)\n",
        "    print(\"Label: \", label)\n",
        "\n",
        "    current_image = current_image.reshape((28, 28)) * 255\n",
        "    plt.gray()\n",
        "    plt.imshow(current_image, interpolation='nearest')\n",
        "    plt.show()"
      ]
    },
    {
      "cell_type": "code",
      "execution_count": null,
      "metadata": {
        "colab": {
          "background_save": true
        },
        "id": "oCObgTpn-V7E",
        "outputId": "b2373b1b-b77f-44fd-ee2b-9f860990b9fe"
      },
      "outputs": [
        {
          "name": "stdout",
          "output_type": "stream",
          "text": [
            "Prediction:  4\n",
            "Label:  4\n"
          ]
        },
        {
          "data": {
            "image/png": "[encoded data removed]",
            "text/plain": [
              "<Figure size 640x480 with 1 Axes>"
            ]
          },
          "metadata": {},
          "output_type": "display_data"
        },
        {
          "name": "stdout",
          "output_type": "stream",
          "text": [
            "Prediction:  6\n",
            "Label:  6\n"
          ]
        },
        {
          "data": {
            "image/png": "[encoded data removed]",
            "text/plain": [
              "<Figure size 640x480 with 1 Axes>"
            ]
          },
          "metadata": {},
          "output_type": "display_data"
        },
        {
          "name": "stdout",
          "output_type": "stream",
          "text": [
            "Prediction:  2\n",
            "Label:  2\n"
          ]
        },
        {
          "data": {
            "image/png": "[encoded data removed]",
            "text/plain": [
              "<Figure size 640x480 with 1 Axes>"
            ]
          },
          "metadata": {},
          "output_type": "display_data"
        },
        {
          "name": "stdout",
          "output_type": "stream",
          "text": [
            "Prediction:  5\n",
            "Label:  5\n"
          ]
        },
        {
          "data": {
            "image/png": "[encoded data removed]",
            "text/plain": [
              "<Figure size 640x480 with 1 Axes>"
            ]
          },
          "metadata": {},
          "output_type": "display_data"
        }
      ],
      "source": [
        "test_prediction(2, W1, b1, W2, b2)\n",
        "test_prediction(13, W1, b1, W2, b2)\n",
        "test_prediction(143, W1, b1, W2, b2)\n",
        "test_prediction(100, W1, b1, W2, b2)"
      ]
    },
    {
      "cell_type": "code",
      "execution_count": null,
      "metadata": {
        "colab": {
          "background_save": true
        },
        "id": "Py2g2tjk-V7F",
        "outputId": "f1547086-0e45-4216-b986-338506fe3453"
      },
      "outputs": [
        {
          "name": "stdout",
          "output_type": "stream",
          "text": [
            "[7 2 1 ... 9 6 6] [7 2 1 ... 4 5 6]\n"
          ]
        },
        {
          "data": {
            "text/plain": [
              "0.7846"
            ]
          },
          "execution_count": 12,
          "metadata": {},
          "output_type": "execute_result"
        }
      ],
      "source": [
        "test_predictions = make_predictions(X_test, W1, b1, W2, b2)\n",
        "get_accuracy(test_predictions, Y_test)"
      ]
    },
    {
      "cell_type": "code",
      "execution_count": null,
      "metadata": {
        "colab": {
          "background_save": true
        },
        "id": "GxVuB50F-V7G",
        "outputId": "098372a4-62f2-4099-b436-4e12e6ef5da2"
      },
      "outputs": [
        {
          "data": {
            "text/plain": [
              "[<matplotlib.lines.Line2D at 0x7fdc942e2470>]"
            ]
          },
          "execution_count": 13,
          "metadata": {},
          "output_type": "execute_result"
        },
        {
          "data": {
            "image/png": "[encoded data removed]",
            "text/plain": [
              "<Figure size 640x480 with 1 Axes>"
            ]
          },
          "metadata": {},
          "output_type": "display_data"
        }
      ],
      "source": [
        "plt.plot(ite, loss)"
      ]
    }
  ],
  "metadata": {
    "colab": {
      "provenance": [],
      "authorship_tag": "ABX9TyMF5yl7pPd0bMdq1T2SpiJs",
      "include_colab_link": true
    },
    "kernelspec": {
      "display_name": "Python 3",
      "name": "python3"
    },
    "language_info": {
      "name": "python"
    }
  },
  "nbformat": 4,
  "nbformat_minor": 0
}