{
  "nbformat": 4,
  "nbformat_minor": 0,
  "metadata": {
    "colab": {
      "provenance": [],
      "include_colab_link": true
    },
    "kernelspec": {
      "name": "python3",
      "display_name": "Python 3"
    },
    "language_info": {
      "name": "python"
    }
  },
  "cells": [
    {
      "cell_type": "markdown",
      "metadata": {
        "id": "view-in-github",
        "colab_type": "text"
      },
      "source": [
        "<a href=\"https://colab.research.google.com/github/fatihgumuss/machine-learning-and-nlp/blob/main/exercies1.ipynb\" target=\"_parent\"><img src=\"https://colab.research.google.com/assets/colab-badge.svg\" alt=\"Open In Colab\"/></a>"
      ]
    },
    {
      "cell_type": "code",
      "source": [
        "import pandas as pd\n",
        "import numpy as np\n",
        "import matplotlib.pyplot as plt\n",
        "from sklearn.model_selection import train_test_split\n",
        "\n",
        "df = pd.read_csv(\"automobileEDA.csv\")\n",
        "df.head()"
      ],
      "metadata": {
        "colab": {
          "base_uri": "https://localhost:8080/",
          "height": 386
        },
        "id": "plI6L70ATxwz",
        "outputId": "f089cae1-1608-42cc-d6c1-3c3064cbc35c"
      },
      "execution_count": null,
      "outputs": [
        {
          "output_type": "execute_result",
          "data": {
            "text/plain": [
              "   symboling  normalized-losses         make aspiration num-of-doors  \\\n",
              "0          3                122  alfa-romero        std          two   \n",
              "1          3                122  alfa-romero        std          two   \n",
              "2          1                122  alfa-romero        std          two   \n",
              "3          2                164         audi        std         four   \n",
              "4          2                164         audi        std         four   \n",
              "\n",
              "    body-style drive-wheels engine-location  wheel-base    length  ...  \\\n",
              "0  convertible          rwd           front        88.6  0.811148  ...   \n",
              "1  convertible          rwd           front        88.6  0.811148  ...   \n",
              "2    hatchback          rwd           front        94.5  0.822681  ...   \n",
              "3        sedan          fwd           front        99.8  0.848630  ...   \n",
              "4        sedan          4wd           front        99.4  0.848630  ...   \n",
              "\n",
              "   compression-ratio  horsepower  peak-rpm city-mpg highway-mpg    price  \\\n",
              "0                9.0       111.0    5000.0       21          27  13495.0   \n",
              "1                9.0       111.0    5000.0       21          27  16500.0   \n",
              "2                9.0       154.0    5000.0       19          26  16500.0   \n",
              "3               10.0       102.0    5500.0       24          30  13950.0   \n",
              "4                8.0       115.0    5500.0       18          22  17450.0   \n",
              "\n",
              "  city-L/100km  horsepower-binned  diesel  gas  \n",
              "0    11.190476             Medium       0    1  \n",
              "1    11.190476             Medium       0    1  \n",
              "2    12.368421             Medium       0    1  \n",
              "3     9.791667             Medium       0    1  \n",
              "4    13.055556             Medium       0    1  \n",
              "\n",
              "[5 rows x 29 columns]"
            ],
            "text/html": [
              "\n",
              "  <div id=\"df-62100b71-76da-488b-8d2c-c4189e0487f4\">\n",
              "    <div class=\"colab-df-container\">\n",
              "      <div>\n",
              "<style scoped>\n",
              "    .dataframe tbody tr th:only-of-type {\n",
              "        vertical-align: middle;\n",
              "    }\n",
              "\n",
              "    .dataframe tbody tr th {\n",
              "        vertical-align: top;\n",
              "    }\n",
              "\n",
              "    .dataframe thead th {\n",
              "        text-align: right;\n",
              "    }\n",
              "</style>\n",
              "<table border=\"1\" class=\"dataframe\">\n",
              "  <thead>\n",
              "    <tr style=\"text-align: right;\">\n",
              "      <th></th>\n",
              "      <th>symboling</th>\n",
              "      <th>normalized-losses</th>\n",
              "      <th>make</th>\n",
              "      <th>aspiration</th>\n",
              "      <th>num-of-doors</th>\n",
              "      <th>body-style</th>\n",
              "      <th>drive-wheels</th>\n",
              "      <th>engine-location</th>\n",
              "      <th>wheel-base</th>\n",
              "      <th>length</th>\n",
              "      <th>...</th>\n",
              "      <th>compression-ratio</th>\n",
              "      <th>horsepower</th>\n",
              "      <th>peak-rpm</th>\n",
              "      <th>city-mpg</th>\n",
              "      <th>highway-mpg</th>\n",
              "      <th>price</th>\n",
              "      <th>city-L/100km</th>\n",
              "      <th>horsepower-binned</th>\n",
              "      <th>diesel</th>\n",
              "      <th>gas</th>\n",
              "    </tr>\n",
              "  </thead>\n",
              "  <tbody>\n",
              "    <tr>\n",
              "      <th>0</th>\n",
              "      <td>3</td>\n",
              "      <td>122</td>\n",
              "      <td>alfa-romero</td>\n",
              "      <td>std</td>\n",
              "      <td>two</td>\n",
              "      <td>convertible</td>\n",
              "      <td>rwd</td>\n",
              "      <td>front</td>\n",
              "      <td>88.6</td>\n",
              "      <td>0.811148</td>\n",
              "      <td>...</td>\n",
              "      <td>9.0</td>\n",
              "      <td>111.0</td>\n",
              "      <td>5000.0</td>\n",
              "      <td>21</td>\n",
              "      <td>27</td>\n",
              "      <td>13495.0</td>\n",
              "      <td>11.190476</td>\n",
              "      <td>Medium</td>\n",
              "      <td>0</td>\n",
              "      <td>1</td>\n",
              "    </tr>\n",
              "    <tr>\n",
              "      <th>1</th>\n",
              "      <td>3</td>\n",
              "      <td>122</td>\n",
              "      <td>alfa-romero</td>\n",
              "      <td>std</td>\n",
              "      <td>two</td>\n",
              "      <td>convertible</td>\n",
              "      <td>rwd</td>\n",
              "      <td>front</td>\n",
              "      <td>88.6</td>\n",
              "      <td>0.811148</td>\n",
              "      <td>...</td>\n",
              "      <td>9.0</td>\n",
              "      <td>111.0</td>\n",
              "      <td>5000.0</td>\n",
              "      <td>21</td>\n",
              "      <td>27</td>\n",
              "      <td>16500.0</td>\n",
              "      <td>11.190476</td>\n",
              "      <td>Medium</td>\n",
              "      <td>0</td>\n",
              "      <td>1</td>\n",
              "    </tr>\n",
              "    <tr>\n",
              "      <th>2</th>\n",
              "      <td>1</td>\n",
              "      <td>122</td>\n",
              "      <td>alfa-romero</td>\n",
              "      <td>std</td>\n",
              "      <td>two</td>\n",
              "      <td>hatchback</td>\n",
              "      <td>rwd</td>\n",
              "      <td>front</td>\n",
              "      <td>94.5</td>\n",
              "      <td>0.822681</td>\n",
              "      <td>...</td>\n",
              "      <td>9.0</td>\n",
              "      <td>154.0</td>\n",
              "      <td>5000.0</td>\n",
              "      <td>19</td>\n",
              "      <td>26</td>\n",
              "      <td>16500.0</td>\n",
              "      <td>12.368421</td>\n",
              "      <td>Medium</td>\n",
              "      <td>0</td>\n",
              "      <td>1</td>\n",
              "    </tr>\n",
              "    <tr>\n",
              "      <th>3</th>\n",
              "      <td>2</td>\n",
              "      <td>164</td>\n",
              "      <td>audi</td>\n",
              "      <td>std</td>\n",
              "      <td>four</td>\n",
              "      <td>sedan</td>\n",
              "      <td>fwd</td>\n",
              "      <td>front</td>\n",
              "      <td>99.8</td>\n",
              "      <td>0.848630</td>\n",
              "      <td>...</td>\n",
              "      <td>10.0</td>\n",
              "      <td>102.0</td>\n",
              "      <td>5500.0</td>\n",
              "      <td>24</td>\n",
              "      <td>30</td>\n",
              "      <td>13950.0</td>\n",
              "      <td>9.791667</td>\n",
              "      <td>Medium</td>\n",
              "      <td>0</td>\n",
              "      <td>1</td>\n",
              "    </tr>\n",
              "    <tr>\n",
              "      <th>4</th>\n",
              "      <td>2</td>\n",
              "      <td>164</td>\n",
              "      <td>audi</td>\n",
              "      <td>std</td>\n",
              "      <td>four</td>\n",
              "      <td>sedan</td>\n",
              "      <td>4wd</td>\n",
              "      <td>front</td>\n",
              "      <td>99.4</td>\n",
              "      <td>0.848630</td>\n",
              "      <td>...</td>\n",
              "      <td>8.0</td>\n",
              "      <td>115.0</td>\n",
              "      <td>5500.0</td>\n",
              "      <td>18</td>\n",
              "      <td>22</td>\n",
              "      <td>17450.0</td>\n",
              "      <td>13.055556</td>\n",
              "      <td>Medium</td>\n",
              "      <td>0</td>\n",
              "      <td>1</td>\n",
              "    </tr>\n",
              "  </tbody>\n",
              "</table>\n",
              "<p>5 rows × 29 columns</p>\n",
              "</div>\n",
              "      <button class=\"colab-df-convert\" onclick=\"convertToInteractive('df-62100b71-76da-488b-8d2c-c4189e0487f4')\"\n",
              "              title=\"Convert this dataframe to an interactive table.\"\n",
              "              style=\"display:none;\">\n",
              "        \n",
              "  <svg xmlns=\"http://www.w3.org/2000/svg\" height=\"24px\"viewBox=\"0 0 24 24\"\n",
              "       width=\"24px\">\n",
              "    <path d=\"M0 0h24v24H0V0z\" fill=\"none\"/>\n",
              "    <path d=\"M18.56 5.44l.94 2.06.94-2.06 2.06-.94-2.06-.94-.94-2.06-.94 2.06-2.06.94zm-11 1L8.5 8.5l.94-2.06 2.06-.94-2.06-.94L8.5 2.5l-.94 2.06-2.06.94zm10 10l.94 2.06.94-2.06 2.06-.94-2.06-.94-.94-2.06-.94 2.06-2.06.94z\"/><path d=\"M17.41 7.96l-1.37-1.37c-.4-.4-.92-.59-1.43-.59-.52 0-1.04.2-1.43.59L10.3 9.45l-7.72 7.72c-.78.78-.78 2.05 0 2.83L4 21.41c.39.39.9.59 1.41.59.51 0 1.02-.2 1.41-.59l7.78-7.78 2.81-2.81c.8-.78.8-2.07 0-2.86zM5.41 20L4 18.59l7.72-7.72 1.47 1.35L5.41 20z\"/>\n",
              "  </svg>\n",
              "      </button>\n",
              "      \n",
              "  <style>\n",
              "    .colab-df-container {\n",
              "      display:flex;\n",
              "      flex-wrap:wrap;\n",
              "      gap: 12px;\n",
              "    }\n",
              "\n",
              "    .colab-df-convert {\n",
              "      background-color: #E8F0FE;\n",
              "      border: none;\n",
              "      border-radius: 50%;\n",
              "      cursor: pointer;\n",
              "      display: none;\n",
              "      fill: #1967D2;\n",
              "      height: 32px;\n",
              "      padding: 0 0 0 0;\n",
              "      width: 32px;\n",
              "    }\n",
              "\n",
              "    .colab-df-convert:hover {\n",
              "      background-color: #E2EBFA;\n",
              "      box-shadow: 0px 1px 2px rgba(60, 64, 67, 0.3), 0px 1px 3px 1px rgba(60, 64, 67, 0.15);\n",
              "      fill: #174EA6;\n",
              "    }\n",
              "\n",
              "    [theme=dark] .colab-df-convert {\n",
              "      background-color: #3B4455;\n",
              "      fill: #D2E3FC;\n",
              "    }\n",
              "\n",
              "    [theme=dark] .colab-df-convert:hover {\n",
              "      background-color: #434B5C;\n",
              "      box-shadow: 0px 1px 3px 1px rgba(0, 0, 0, 0.15);\n",
              "      filter: drop-shadow(0px 1px 2px rgba(0, 0, 0, 0.3));\n",
              "      fill: #FFFFFF;\n",
              "    }\n",
              "  </style>\n",
              "\n",
              "      <script>\n",
              "        const buttonEl =\n",
              "          document.querySelector('#df-62100b71-76da-488b-8d2c-c4189e0487f4 button.colab-df-convert');\n",
              "        buttonEl.style.display =\n",
              "          google.colab.kernel.accessAllowed ? 'block' : 'none';\n",
              "\n",
              "        async function convertToInteractive(key) {\n",
              "          const element = document.querySelector('#df-62100b71-76da-488b-8d2c-c4189e0487f4');\n",
              "          const dataTable =\n",
              "            await google.colab.kernel.invokeFunction('convertToInteractive',\n",
              "                                                     [key], {});\n",
              "          if (!dataTable) return;\n",
              "\n",
              "          const docLinkHtml = 'Like what you see? Visit the ' +\n",
              "            '<a target=\"_blank\" href=https://colab.research.google.com/notebooks/data_table.ipynb>data table notebook</a>'\n",
              "            + ' to learn more about interactive tables.';\n",
              "          element.innerHTML = '';\n",
              "          dataTable['output_type'] = 'display_data';\n",
              "          await google.colab.output.renderOutput(dataTable, element);\n",
              "          const docLink = document.createElement('div');\n",
              "          docLink.innerHTML = docLinkHtml;\n",
              "          element.appendChild(docLink);\n",
              "        }\n",
              "      </script>\n",
              "    </div>\n",
              "  </div>\n",
              "  "
            ]
          },
          "metadata": {},
          "execution_count": 2
        }
      ]
    },
    {
      "cell_type": "code",
      "source": [
        "from sklearn.linear_model import LinearRegression\n",
        "\n",
        "lm = LinearRegression()\n",
        "\n",
        "lm\n",
        "\n",
        "Y=df[['price']]\n",
        "X=df[['highway-mpg','engine-size','horsepower']]\n",
        "\n",
        "lm.fit(X,Y)\n"
      ],
      "metadata": {
        "colab": {
          "base_uri": "https://localhost:8080/",
          "height": 74
        },
        "id": "8TkPj8U9Vm7F",
        "outputId": "bb023e61-23bf-4907-fd53-0d6fd862340a"
      },
      "execution_count": null,
      "outputs": [
        {
          "output_type": "execute_result",
          "data": {
            "text/plain": [
              "LinearRegression()"
            ],
            "text/html": [
              "<style>#sk-container-id-1 {color: black;background-color: white;}#sk-container-id-1 pre{padding: 0;}#sk-container-id-1 div.sk-toggleable {background-color: white;}#sk-container-id-1 label.sk-toggleable__label {cursor: pointer;display: block;width: 100%;margin-bottom: 0;padding: 0.3em;box-sizing: border-box;text-align: center;}#sk-container-id-1 label.sk-toggleable__label-arrow:before {content: \"▸\";float: left;margin-right: 0.25em;color: #696969;}#sk-container-id-1 label.sk-toggleable__label-arrow:hover:before {color: black;}#sk-container-id-1 div.sk-estimator:hover label.sk-toggleable__label-arrow:before {color: black;}#sk-container-id-1 div.sk-toggleable__content {max-height: 0;max-width: 0;overflow: hidden;text-align: left;background-color: #f0f8ff;}#sk-container-id-1 div.sk-toggleable__content pre {margin: 0.2em;color: black;border-radius: 0.25em;background-color: #f0f8ff;}#sk-container-id-1 input.sk-toggleable__control:checked~div.sk-toggleable__content {max-height: 200px;max-width: 100%;overflow: auto;}#sk-container-id-1 input.sk-toggleable__control:checked~label.sk-toggleable__label-arrow:before {content: \"▾\";}#sk-container-id-1 div.sk-estimator input.sk-toggleable__control:checked~label.sk-toggleable__label {background-color: #d4ebff;}#sk-container-id-1 div.sk-label input.sk-toggleable__control:checked~label.sk-toggleable__label {background-color: #d4ebff;}#sk-container-id-1 input.sk-hidden--visually {border: 0;clip: rect(1px 1px 1px 1px);clip: rect(1px, 1px, 1px, 1px);height: 1px;margin: -1px;overflow: hidden;padding: 0;position: absolute;width: 1px;}#sk-container-id-1 div.sk-estimator {font-family: monospace;background-color: #f0f8ff;border: 1px dotted black;border-radius: 0.25em;box-sizing: border-box;margin-bottom: 0.5em;}#sk-container-id-1 div.sk-estimator:hover {background-color: #d4ebff;}#sk-container-id-1 div.sk-parallel-item::after {content: \"\";width: 100%;border-bottom: 1px solid gray;flex-grow: 1;}#sk-container-id-1 div.sk-label:hover label.sk-toggleable__label {background-color: #d4ebff;}#sk-container-id-1 div.sk-serial::before {content: \"\";position: absolute;border-left: 1px solid gray;box-sizing: border-box;top: 0;bottom: 0;left: 50%;z-index: 0;}#sk-container-id-1 div.sk-serial {display: flex;flex-direction: column;align-items: center;background-color: white;padding-right: 0.2em;padding-left: 0.2em;position: relative;}#sk-container-id-1 div.sk-item {position: relative;z-index: 1;}#sk-container-id-1 div.sk-parallel {display: flex;align-items: stretch;justify-content: center;background-color: white;position: relative;}#sk-container-id-1 div.sk-item::before, #sk-container-id-1 div.sk-parallel-item::before {content: \"\";position: absolute;border-left: 1px solid gray;box-sizing: border-box;top: 0;bottom: 0;left: 50%;z-index: -1;}#sk-container-id-1 div.sk-parallel-item {display: flex;flex-direction: column;z-index: 1;position: relative;background-color: white;}#sk-container-id-1 div.sk-parallel-item:first-child::after {align-self: flex-end;width: 50%;}#sk-container-id-1 div.sk-parallel-item:last-child::after {align-self: flex-start;width: 50%;}#sk-container-id-1 div.sk-parallel-item:only-child::after {width: 0;}#sk-container-id-1 div.sk-dashed-wrapped {border: 1px dashed gray;margin: 0 0.4em 0.5em 0.4em;box-sizing: border-box;padding-bottom: 0.4em;background-color: white;}#sk-container-id-1 div.sk-label label {font-family: monospace;font-weight: bold;display: inline-block;line-height: 1.2em;}#sk-container-id-1 div.sk-label-container {text-align: center;}#sk-container-id-1 div.sk-container {/* jupyter's `normalize.less` sets `[hidden] { display: none; }` but bootstrap.min.css set `[hidden] { display: none !important; }` so we also need the `!important` here to be able to override the default hidden behavior on the sphinx rendered scikit-learn.org. See: https://github.com/scikit-learn/scikit-learn/issues/21755 */display: inline-block !important;position: relative;}#sk-container-id-1 div.sk-text-repr-fallback {display: none;}</style><div id=\"sk-container-id-1\" class=\"sk-top-container\"><div class=\"sk-text-repr-fallback\"><pre>LinearRegression()</pre><b>In a Jupyter environment, please rerun this cell to show the HTML representation or trust the notebook. <br />On GitHub, the HTML representation is unable to render, please try loading this page with nbviewer.org.</b></div><div class=\"sk-container\" hidden><div class=\"sk-item\"><div class=\"sk-estimator sk-toggleable\"><input class=\"sk-toggleable__control sk-hidden--visually\" id=\"sk-estimator-id-1\" type=\"checkbox\" checked><label for=\"sk-estimator-id-1\" class=\"sk-toggleable__label sk-toggleable__label-arrow\">LinearRegression</label><div class=\"sk-toggleable__content\"><pre>LinearRegression()</pre></div></div></div></div></div>"
            ]
          },
          "metadata": {},
          "execution_count": 3
        }
      ]
    },
    {
      "cell_type": "code",
      "source": [
        "X_train, X_test, Y_train, Y_test = train_test_split(X, Y, test_size=0.30, random_state=42)"
      ],
      "metadata": {
        "id": "8-mLHhiesL_j"
      },
      "execution_count": null,
      "outputs": []
    },
    {
      "cell_type": "code",
      "source": [
        "import seaborn as sns\n",
        "%matplotlib inline"
      ],
      "metadata": {
        "id": "GEhG74u2XCPK"
      },
      "execution_count": null,
      "outputs": []
    },
    {
      "cell_type": "code",
      "source": [
        "width = 12\n",
        "height = 10\n",
        "plt.figure(figsize=(width, height))\n",
        "sns.regplot(x=\"highway-mpg\", y=\"price\", data=df)\n",
        "plt.ylim(0,)"
      ],
      "metadata": {
        "colab": {
          "base_uri": "https://localhost:8080/",
          "height": 624
        },
        "id": "_NSYilIgXCSu",
        "outputId": "33c4d0d1-ea4f-4941-96ec-3456a251a256"
      },
      "execution_count": null,
      "outputs": [
        {
          "output_type": "execute_result",
          "data": {
            "text/plain": [
              "(0.0, 48169.4891838813)"
            ]
          },
          "metadata": {},
          "execution_count": 6
        },
        {
          "output_type": "display_data",
          "data": {
            "text/plain": [
              "<Figure size 864x720 with 1 Axes>"
            ],
            "image/png": "[encoded data removed]"
          },
          "metadata": {
            "needs_background": "light"
          }
        }
      ]
    },
    {
      "cell_type": "code",
      "source": [
        "lm.intercept_"
      ],
      "metadata": {
        "colab": {
          "base_uri": "https://localhost:8080/"
        },
        "id": "ubihsYjMXZIS",
        "outputId": "f2360e0c-1f6e-47af-ba14-4a7a81bfdd37"
      },
      "execution_count": null,
      "outputs": [
        {
          "output_type": "execute_result",
          "data": {
            "text/plain": [
              "array([-2105.36456095])"
            ]
          },
          "metadata": {},
          "execution_count": 7
        }
      ]
    },
    {
      "cell_type": "code",
      "source": [
        "lm.coef_"
      ],
      "metadata": {
        "colab": {
          "base_uri": "https://localhost:8080/"
        },
        "id": "kNKAWEvXXZPL",
        "outputId": "57dfb0f4-06ab-42b7-c2ff-de4693c89425"
      },
      "execution_count": null,
      "outputs": [
        {
          "output_type": "execute_result",
          "data": {
            "text/plain": [
              "array([[-139.42625264,  120.85329253,   41.17449204]])"
            ]
          },
          "metadata": {},
          "execution_count": 8
        }
      ]
    },
    {
      "cell_type": "code",
      "source": [
        "Yhat=lm.predict(X)\n",
        "Yhat[:]"
      ],
      "metadata": {
        "colab": {
          "base_uri": "https://localhost:8080/"
        },
        "id": "T4obc2yVXZRP",
        "outputId": "571c5be4-0329-4511-eddc-e6d5fa28eeec"
      },
      "execution_count": null,
      "outputs": [
        {
          "output_type": "execute_result",
          "data": {
            "text/plain": [
              "array([[14411.42326337],\n",
              "       [14411.42326337],\n",
              "       [18980.12510938],\n",
              "       [11084.65493392],\n",
              "       [15998.37224991],\n",
              "       [15374.2210318 ],\n",
              "       [15374.2210318 ],\n",
              "       [15374.2210318 ],\n",
              "       [16702.32059348],\n",
              "       [11062.05340199],\n",
              "       [11062.05340199],\n",
              "       [18792.75387723],\n",
              "       [18792.75387723],\n",
              "       [19211.03263514],\n",
              "       [27579.35357138],\n",
              "       [27579.35357138],\n",
              "       [27858.20607665],\n",
              "       [ -146.5294884 ],\n",
              "       [ 5658.31734628],\n",
              "       [ 5658.31734628],\n",
              "       [ 5854.82086747],\n",
              "       [ 6273.09962539],\n",
              "       [ 9755.26871606],\n",
              "       [ 6273.09962539],\n",
              "       [ 6273.09962539],\n",
              "       [ 6273.09962539],\n",
              "       [ 9755.26871606],\n",
              "       [12079.30484831],\n",
              "       [19371.82035644],\n",
              "       [ 3872.24124787],\n",
              "       [ 6844.20214676],\n",
              "       [ 4056.61246067],\n",
              "       [ 7401.90715731],\n",
              "       [ 7401.90715731],\n",
              "       [ 7401.90715731],\n",
              "       [ 7401.90715731],\n",
              "       [10128.43759592],\n",
              "       [10128.43759592],\n",
              "       [10128.43759592],\n",
              "       [10128.43759592],\n",
              "       [11443.18623969],\n",
              "       [10983.73298974],\n",
              "       [10477.5999627 ],\n",
              "       [11938.52020742],\n",
              "       [33672.39671116],\n",
              "       [33672.39671116],\n",
              "       [45710.27942398],\n",
              "       [ 7369.93668638],\n",
              "       [ 6393.95291792],\n",
              "       [ 6393.95291792],\n",
              "       [ 6393.95291792],\n",
              "       [ 6393.95291792],\n",
              "       [ 7306.18580157],\n",
              "       [ 7306.18580157],\n",
              "       [ 7306.18580157],\n",
              "       [ 9914.6514562 ],\n",
              "       [11635.75437488],\n",
              "       [11635.75437488],\n",
              "       [11635.75437488],\n",
              "       [11635.75437488],\n",
              "       [ 9418.00200773],\n",
              "       [11635.75437488],\n",
              "       [15990.52661704],\n",
              "       [11615.91621234],\n",
              "       [21589.59417734],\n",
              "       [21589.59417734],\n",
              "       [21589.59417734],\n",
              "       [21589.59417734],\n",
              "       [30046.67961021],\n",
              "       [30046.67961021],\n",
              "       [40462.73603202],\n",
              "       [39979.32286189],\n",
              "       [18673.40243707],\n",
              "       [ 6096.52745254],\n",
              "       [ 6514.80621045],\n",
              "       [ 6514.80621045],\n",
              "       [ 9755.26871606],\n",
              "       [11781.95111499],\n",
              "       [11800.45234303],\n",
              "       [19371.82035644],\n",
              "       [19371.82035644],\n",
              "       [19371.82035644],\n",
              "       [11800.45234303],\n",
              "       [11800.45234303],\n",
              "       [11781.95111499],\n",
              "       [11781.95111499],\n",
              "       [ 7299.67341779],\n",
              "       [ 5635.80900016],\n",
              "       [ 7299.67341779],\n",
              "       [ 7299.67341779],\n",
              "       [ 7299.67341779],\n",
              "       [ 7299.67341779],\n",
              "       [ 7299.67341779],\n",
              "       [ 7299.67341779],\n",
              "       [ 7299.67341779],\n",
              "       [ 7299.67341779],\n",
              "       [11650.46368104],\n",
              "       [11650.46368104],\n",
              "       [22960.2266193 ],\n",
              "       [22960.2266193 ],\n",
              "       [22541.94786139],\n",
              "       [22871.3437977 ],\n",
              "       [24797.17598452],\n",
              "       [22871.3437977 ],\n",
              "       [13044.72620741],\n",
              "       [15574.84631065],\n",
              "       [13044.72620741],\n",
              "       [16690.25633175],\n",
              "       [12962.37722334],\n",
              "       [15574.84631065],\n",
              "       [12962.37722334],\n",
              "       [16690.25633175],\n",
              "       [13044.72620741],\n",
              "       [15574.84631065],\n",
              "       [16589.52444461],\n",
              "       [ 5854.82086747],\n",
              "       [ 9755.26871606],\n",
              "       [ 6273.09962539],\n",
              "       [ 6273.09962539],\n",
              "       [ 7239.92596565],\n",
              "       [12079.30484831],\n",
              "       [19371.82035644],\n",
              "       [18266.92615179],\n",
              "       [26377.63772644],\n",
              "       [26377.63772644],\n",
              "       [26377.63772644],\n",
              "       [13817.75055413],\n",
              "       [13817.75055413],\n",
              "       [13143.1428859 ],\n",
              "       [13143.1428859 ],\n",
              "       [13143.1428859 ],\n",
              "       [13143.1428859 ],\n",
              "       [15480.7199931 ],\n",
              "       [15480.7199931 ],\n",
              "       [ 7439.09967043],\n",
              "       [ 9630.31511963],\n",
              "       [ 9630.31511963],\n",
              "       [ 9164.32803215],\n",
              "       [ 9722.0330427 ],\n",
              "       [10355.5531998 ],\n",
              "       [10837.4430638 ],\n",
              "       [11473.79832237],\n",
              "       [ 9861.45929534],\n",
              "       [10494.97945244],\n",
              "       [10279.73805325],\n",
              "       [12310.3558382 ],\n",
              "       [ 6128.33300558],\n",
              "       [ 6267.75925822],\n",
              "       [ 6267.75925822],\n",
              "       [ 6407.18551086],\n",
              "       [ 7104.31677405],\n",
              "       [ 7104.31677405],\n",
              "       [ 7461.70120236],\n",
              "       [ 7461.70120236],\n",
              "       [ 8474.92407686],\n",
              "       [ 6941.23529784],\n",
              "       [ 6067.43867599],\n",
              "       [ 7879.97996028],\n",
              "       [ 7879.97996028],\n",
              "       [ 7879.97996028],\n",
              "       [ 7879.97996028],\n",
              "       [10306.43988908],\n",
              "       [10306.43988908],\n",
              "       [16132.66964617],\n",
              "       [16132.66964617],\n",
              "       [16132.66964617],\n",
              "       [16132.66964617],\n",
              "       [16132.66964617],\n",
              "       [16132.66964617],\n",
              "       [11686.29780591],\n",
              "       [ 9593.16919942],\n",
              "       [11965.15031119],\n",
              "       [11965.15031119],\n",
              "       [11965.15031119],\n",
              "       [21843.41161705],\n",
              "       [21843.41161705],\n",
              "       [21637.53915686],\n",
              "       [20429.00623153],\n",
              "       [ 5344.8707794 ],\n",
              "       [ 9826.98355871],\n",
              "       [ 5344.8707794 ],\n",
              "       [ 9826.98355871],\n",
              "       [ 9826.98355871],\n",
              "       [ 6561.36766257],\n",
              "       [10723.45344457],\n",
              "       [10729.9872821 ],\n",
              "       [10729.9872821 ],\n",
              "       [15513.64728444],\n",
              "       [ 7119.07267312],\n",
              "       [10368.78579274],\n",
              "       [15724.90670471],\n",
              "       [15724.90670471],\n",
              "       [15724.90670471],\n",
              "       [15724.90670471],\n",
              "       [17208.45362052],\n",
              "       [17208.45362052],\n",
              "       [15724.90670471],\n",
              "       [18037.21209639],\n",
              "       [21112.83316971],\n",
              "       [16018.35019117],\n",
              "       [16143.18546262]])"
            ]
          },
          "metadata": {},
          "execution_count": 9
        }
      ]
    },
    {
      "cell_type": "code",
      "source": [
        "width = 12\n",
        "height = 10\n",
        "plt.figure(figsize=(width, height))\n",
        "sns.residplot(df[['highway-mpg','engine-size','horsepower']])\n",
        "plt.show()"
      ],
      "metadata": {
        "colab": {
          "base_uri": "https://localhost:8080/",
          "height": 304
        },
        "id": "xKhTxa77XZTA",
        "outputId": "c4118235-d257-40cc-e466-b720899fdd9a"
      },
      "execution_count": null,
      "outputs": [
        {
          "output_type": "error",
          "ename": "ValueError",
          "evalue": "ignored",
          "traceback": [
            "\u001b[0;31m---------------------------------------------------------------------------\u001b[0m",
            "\u001b[0;31mValueError\u001b[0m                                Traceback (most recent call last)",
            "\u001b[0;32m<ipython-input-11-d64b7132e74e>\u001b[0m in \u001b[0;36m<module>\u001b[0;34m\u001b[0m\n\u001b[1;32m      2\u001b[0m \u001b[0mheight\u001b[0m \u001b[0;34m=\u001b[0m \u001b[0;36m10\u001b[0m\u001b[0;34m\u001b[0m\u001b[0;34m\u001b[0m\u001b[0m\n\u001b[1;32m      3\u001b[0m \u001b[0mplt\u001b[0m\u001b[0;34m.\u001b[0m\u001b[0mfigure\u001b[0m\u001b[0;34m(\u001b[0m\u001b[0mfigsize\u001b[0m\u001b[0;34m=\u001b[0m\u001b[0;34m(\u001b[0m\u001b[0mwidth\u001b[0m\u001b[0;34m,\u001b[0m \u001b[0mheight\u001b[0m\u001b[0;34m)\u001b[0m\u001b[0;34m)\u001b[0m\u001b[0;34m\u001b[0m\u001b[0;34m\u001b[0m\u001b[0m\n\u001b[0;32m----> 4\u001b[0;31m \u001b[0msns\u001b[0m\u001b[0;34m.\u001b[0m\u001b[0mresidplot\u001b[0m\u001b[0;34m(\u001b[0m\u001b[0mdf\u001b[0m\u001b[0;34m[\u001b[0m\u001b[0;34m[\u001b[0m\u001b[0;34m'highway-mpg'\u001b[0m\u001b[0;34m,\u001b[0m\u001b[0;34m'engine-size'\u001b[0m\u001b[0;34m,\u001b[0m\u001b[0;34m'horsepower'\u001b[0m\u001b[0;34m]\u001b[0m\u001b[0;34m]\u001b[0m\u001b[0;34m)\u001b[0m\u001b[0;34m\u001b[0m\u001b[0;34m\u001b[0m\u001b[0m\n\u001b[0m\u001b[1;32m      5\u001b[0m \u001b[0mplt\u001b[0m\u001b[0;34m.\u001b[0m\u001b[0mshow\u001b[0m\u001b[0;34m(\u001b[0m\u001b[0;34m)\u001b[0m\u001b[0;34m\u001b[0m\u001b[0;34m\u001b[0m\u001b[0m\n",
            "\u001b[0;32m/usr/local/lib/python3.9/dist-packages/seaborn/regression.py\u001b[0m in \u001b[0;36mresidplot\u001b[0;34m(data, x, y, x_partial, y_partial, lowess, order, robust, dropna, label, color, scatter_kws, line_kws, ax)\u001b[0m\n\u001b[1;32m    897\u001b[0m \u001b[0;34m\u001b[0m\u001b[0m\n\u001b[1;32m    898\u001b[0m     \"\"\"\n\u001b[0;32m--> 899\u001b[0;31m     plotter = _RegressionPlotter(x, y, data, ci=None,\n\u001b[0m\u001b[1;32m    900\u001b[0m                                  \u001b[0morder\u001b[0m\u001b[0;34m=\u001b[0m\u001b[0morder\u001b[0m\u001b[0;34m,\u001b[0m \u001b[0mrobust\u001b[0m\u001b[0;34m=\u001b[0m\u001b[0mrobust\u001b[0m\u001b[0;34m,\u001b[0m\u001b[0;34m\u001b[0m\u001b[0;34m\u001b[0m\u001b[0m\n\u001b[1;32m    901\u001b[0m                                  \u001b[0mx_partial\u001b[0m\u001b[0;34m=\u001b[0m\u001b[0mx_partial\u001b[0m\u001b[0;34m,\u001b[0m \u001b[0my_partial\u001b[0m\u001b[0;34m=\u001b[0m\u001b[0my_partial\u001b[0m\u001b[0;34m,\u001b[0m\u001b[0;34m\u001b[0m\u001b[0;34m\u001b[0m\u001b[0m\n",
            "\u001b[0;32m/usr/local/lib/python3.9/dist-packages/seaborn/regression.py\u001b[0m in \u001b[0;36m__init__\u001b[0;34m(self, x, y, data, x_estimator, x_bins, x_ci, scatter, fit_reg, ci, n_boot, units, seed, order, logistic, lowess, robust, logx, x_partial, y_partial, truncate, dropna, x_jitter, y_jitter, color, label)\u001b[0m\n\u001b[1;32m    110\u001b[0m         \u001b[0;31m# Drop null observations\u001b[0m\u001b[0;34m\u001b[0m\u001b[0;34m\u001b[0m\u001b[0m\n\u001b[1;32m    111\u001b[0m         \u001b[0;32mif\u001b[0m \u001b[0mdropna\u001b[0m\u001b[0;34m:\u001b[0m\u001b[0;34m\u001b[0m\u001b[0;34m\u001b[0m\u001b[0m\n\u001b[0;32m--> 112\u001b[0;31m             \u001b[0mself\u001b[0m\u001b[0;34m.\u001b[0m\u001b[0mdropna\u001b[0m\u001b[0;34m(\u001b[0m\u001b[0;34m\"x\"\u001b[0m\u001b[0;34m,\u001b[0m \u001b[0;34m\"y\"\u001b[0m\u001b[0;34m,\u001b[0m \u001b[0;34m\"units\"\u001b[0m\u001b[0;34m,\u001b[0m \u001b[0;34m\"x_partial\"\u001b[0m\u001b[0;34m,\u001b[0m \u001b[0;34m\"y_partial\"\u001b[0m\u001b[0;34m)\u001b[0m\u001b[0;34m\u001b[0m\u001b[0;34m\u001b[0m\u001b[0m\n\u001b[0m\u001b[1;32m    113\u001b[0m \u001b[0;34m\u001b[0m\u001b[0m\n\u001b[1;32m    114\u001b[0m         \u001b[0;31m# Regress nuisance variables out of the data\u001b[0m\u001b[0;34m\u001b[0m\u001b[0;34m\u001b[0m\u001b[0m\n",
            "\u001b[0;32m/usr/local/lib/python3.9/dist-packages/seaborn/regression.py\u001b[0m in \u001b[0;36mdropna\u001b[0;34m(self, *vars)\u001b[0m\n\u001b[1;32m     58\u001b[0m         \u001b[0mvals\u001b[0m \u001b[0;34m=\u001b[0m \u001b[0;34m[\u001b[0m\u001b[0mgetattr\u001b[0m\u001b[0;34m(\u001b[0m\u001b[0mself\u001b[0m\u001b[0;34m,\u001b[0m \u001b[0mvar\u001b[0m\u001b[0;34m)\u001b[0m \u001b[0;32mfor\u001b[0m \u001b[0mvar\u001b[0m \u001b[0;32min\u001b[0m \u001b[0mvars\u001b[0m\u001b[0;34m]\u001b[0m\u001b[0;34m\u001b[0m\u001b[0;34m\u001b[0m\u001b[0m\n\u001b[1;32m     59\u001b[0m         \u001b[0mvals\u001b[0m \u001b[0;34m=\u001b[0m \u001b[0;34m[\u001b[0m\u001b[0mv\u001b[0m \u001b[0;32mfor\u001b[0m \u001b[0mv\u001b[0m \u001b[0;32min\u001b[0m \u001b[0mvals\u001b[0m \u001b[0;32mif\u001b[0m \u001b[0mv\u001b[0m \u001b[0;32mis\u001b[0m \u001b[0;32mnot\u001b[0m \u001b[0;32mNone\u001b[0m\u001b[0;34m]\u001b[0m\u001b[0;34m\u001b[0m\u001b[0;34m\u001b[0m\u001b[0m\n\u001b[0;32m---> 60\u001b[0;31m         \u001b[0mnot_na\u001b[0m \u001b[0;34m=\u001b[0m \u001b[0mnp\u001b[0m\u001b[0;34m.\u001b[0m\u001b[0mall\u001b[0m\u001b[0;34m(\u001b[0m\u001b[0mnp\u001b[0m\u001b[0;34m.\u001b[0m\u001b[0mcolumn_stack\u001b[0m\u001b[0;34m(\u001b[0m\u001b[0;34m[\u001b[0m\u001b[0mpd\u001b[0m\u001b[0;34m.\u001b[0m\u001b[0mnotnull\u001b[0m\u001b[0;34m(\u001b[0m\u001b[0mv\u001b[0m\u001b[0;34m)\u001b[0m \u001b[0;32mfor\u001b[0m \u001b[0mv\u001b[0m \u001b[0;32min\u001b[0m \u001b[0mvals\u001b[0m\u001b[0;34m]\u001b[0m\u001b[0;34m)\u001b[0m\u001b[0;34m,\u001b[0m \u001b[0maxis\u001b[0m\u001b[0;34m=\u001b[0m\u001b[0;36m1\u001b[0m\u001b[0;34m)\u001b[0m\u001b[0;34m\u001b[0m\u001b[0;34m\u001b[0m\u001b[0m\n\u001b[0m\u001b[1;32m     61\u001b[0m         \u001b[0;32mfor\u001b[0m \u001b[0mvar\u001b[0m \u001b[0;32min\u001b[0m \u001b[0mvars\u001b[0m\u001b[0;34m:\u001b[0m\u001b[0;34m\u001b[0m\u001b[0;34m\u001b[0m\u001b[0m\n\u001b[1;32m     62\u001b[0m             \u001b[0mval\u001b[0m \u001b[0;34m=\u001b[0m \u001b[0mgetattr\u001b[0m\u001b[0;34m(\u001b[0m\u001b[0mself\u001b[0m\u001b[0;34m,\u001b[0m \u001b[0mvar\u001b[0m\u001b[0;34m)\u001b[0m\u001b[0;34m\u001b[0m\u001b[0;34m\u001b[0m\u001b[0m\n",
            "\u001b[0;32m/usr/local/lib/python3.9/dist-packages/numpy/core/overrides.py\u001b[0m in \u001b[0;36mcolumn_stack\u001b[0;34m(*args, **kwargs)\u001b[0m\n",
            "\u001b[0;32m/usr/local/lib/python3.9/dist-packages/numpy/lib/shape_base.py\u001b[0m in \u001b[0;36mcolumn_stack\u001b[0;34m(tup)\u001b[0m\n\u001b[1;32m    654\u001b[0m             \u001b[0marr\u001b[0m \u001b[0;34m=\u001b[0m \u001b[0marray\u001b[0m\u001b[0;34m(\u001b[0m\u001b[0marr\u001b[0m\u001b[0;34m,\u001b[0m \u001b[0mcopy\u001b[0m\u001b[0;34m=\u001b[0m\u001b[0;32mFalse\u001b[0m\u001b[0;34m,\u001b[0m \u001b[0msubok\u001b[0m\u001b[0;34m=\u001b[0m\u001b[0;32mTrue\u001b[0m\u001b[0;34m,\u001b[0m \u001b[0mndmin\u001b[0m\u001b[0;34m=\u001b[0m\u001b[0;36m2\u001b[0m\u001b[0;34m)\u001b[0m\u001b[0;34m.\u001b[0m\u001b[0mT\u001b[0m\u001b[0;34m\u001b[0m\u001b[0;34m\u001b[0m\u001b[0m\n\u001b[1;32m    655\u001b[0m         \u001b[0marrays\u001b[0m\u001b[0;34m.\u001b[0m\u001b[0mappend\u001b[0m\u001b[0;34m(\u001b[0m\u001b[0marr\u001b[0m\u001b[0;34m)\u001b[0m\u001b[0;34m\u001b[0m\u001b[0;34m\u001b[0m\u001b[0m\n\u001b[0;32m--> 656\u001b[0;31m     \u001b[0;32mreturn\u001b[0m \u001b[0m_nx\u001b[0m\u001b[0;34m.\u001b[0m\u001b[0mconcatenate\u001b[0m\u001b[0;34m(\u001b[0m\u001b[0marrays\u001b[0m\u001b[0;34m,\u001b[0m \u001b[0;36m1\u001b[0m\u001b[0;34m)\u001b[0m\u001b[0;34m\u001b[0m\u001b[0;34m\u001b[0m\u001b[0m\n\u001b[0m\u001b[1;32m    657\u001b[0m \u001b[0;34m\u001b[0m\u001b[0m\n\u001b[1;32m    658\u001b[0m \u001b[0;34m\u001b[0m\u001b[0m\n",
            "\u001b[0;32m/usr/local/lib/python3.9/dist-packages/numpy/core/overrides.py\u001b[0m in \u001b[0;36mconcatenate\u001b[0;34m(*args, **kwargs)\u001b[0m\n",
            "\u001b[0;31mValueError\u001b[0m: need at least one array to concatenate"
          ]
        },
        {
          "output_type": "display_data",
          "data": {
            "text/plain": [
              "<Figure size 864x720 with 0 Axes>"
            ]
          },
          "metadata": {}
        }
      ]
    },
    {
      "cell_type": "code",
      "source": [
        "#highway_mpg_fit\n",
        "lm.fit(X, Y) # Find the R^2\n",
        "print('The R-square is: ', lm.score(X, Y))"
      ],
      "metadata": {
        "colab": {
          "base_uri": "https://localhost:8080/"
        },
        "id": "_x2mg0KIX8Wx",
        "outputId": "c5a6514a-74ca-4c15-c143-271021e09a6a"
      },
      "execution_count": null,
      "outputs": [
        {
          "output_type": "stream",
          "name": "stdout",
          "text": [
            "The R-square is:  0.7921420253198568\n"
          ]
        }
      ]
    },
    {
      "cell_type": "code",
      "source": [
        "Yhat=lm.predict(X)\n",
        "print('The output of the first four predicted value is: ', Yhat[:])"
      ],
      "metadata": {
        "colab": {
          "base_uri": "https://localhost:8080/"
        },
        "id": "xCquUw5QYDFo",
        "outputId": "c3c0070d-6cbc-4575-b371-b75b7bd93fb8"
      },
      "execution_count": null,
      "outputs": [
        {
          "output_type": "stream",
          "name": "stdout",
          "text": [
            "The output of the first four predicted value is:  [[14411.42326337]\n",
            " [14411.42326337]\n",
            " [18980.12510938]\n",
            " [11084.65493392]\n",
            " [15998.37224991]\n",
            " [15374.2210318 ]\n",
            " [15374.2210318 ]\n",
            " [15374.2210318 ]\n",
            " [16702.32059348]\n",
            " [11062.05340199]\n",
            " [11062.05340199]\n",
            " [18792.75387723]\n",
            " [18792.75387723]\n",
            " [19211.03263514]\n",
            " [27579.35357138]\n",
            " [27579.35357138]\n",
            " [27858.20607665]\n",
            " [ -146.5294884 ]\n",
            " [ 5658.31734628]\n",
            " [ 5658.31734628]\n",
            " [ 5854.82086747]\n",
            " [ 6273.09962539]\n",
            " [ 9755.26871606]\n",
            " [ 6273.09962539]\n",
            " [ 6273.09962539]\n",
            " [ 6273.09962539]\n",
            " [ 9755.26871606]\n",
            " [12079.30484831]\n",
            " [19371.82035644]\n",
            " [ 3872.24124787]\n",
            " [ 6844.20214676]\n",
            " [ 4056.61246067]\n",
            " [ 7401.90715731]\n",
            " [ 7401.90715731]\n",
            " [ 7401.90715731]\n",
            " [ 7401.90715731]\n",
            " [10128.43759592]\n",
            " [10128.43759592]\n",
            " [10128.43759592]\n",
            " [10128.43759592]\n",
            " [11443.18623969]\n",
            " [10983.73298974]\n",
            " [10477.5999627 ]\n",
            " [11938.52020742]\n",
            " [33672.39671116]\n",
            " [33672.39671116]\n",
            " [45710.27942398]\n",
            " [ 7369.93668638]\n",
            " [ 6393.95291792]\n",
            " [ 6393.95291792]\n",
            " [ 6393.95291792]\n",
            " [ 6393.95291792]\n",
            " [ 7306.18580157]\n",
            " [ 7306.18580157]\n",
            " [ 7306.18580157]\n",
            " [ 9914.6514562 ]\n",
            " [11635.75437488]\n",
            " [11635.75437488]\n",
            " [11635.75437488]\n",
            " [11635.75437488]\n",
            " [ 9418.00200773]\n",
            " [11635.75437488]\n",
            " [15990.52661704]\n",
            " [11615.91621234]\n",
            " [21589.59417734]\n",
            " [21589.59417734]\n",
            " [21589.59417734]\n",
            " [21589.59417734]\n",
            " [30046.67961021]\n",
            " [30046.67961021]\n",
            " [40462.73603202]\n",
            " [39979.32286189]\n",
            " [18673.40243707]\n",
            " [ 6096.52745254]\n",
            " [ 6514.80621045]\n",
            " [ 6514.80621045]\n",
            " [ 9755.26871606]\n",
            " [11781.95111499]\n",
            " [11800.45234303]\n",
            " [19371.82035644]\n",
            " [19371.82035644]\n",
            " [19371.82035644]\n",
            " [11800.45234303]\n",
            " [11800.45234303]\n",
            " [11781.95111499]\n",
            " [11781.95111499]\n",
            " [ 7299.67341779]\n",
            " [ 5635.80900016]\n",
            " [ 7299.67341779]\n",
            " [ 7299.67341779]\n",
            " [ 7299.67341779]\n",
            " [ 7299.67341779]\n",
            " [ 7299.67341779]\n",
            " [ 7299.67341779]\n",
            " [ 7299.67341779]\n",
            " [ 7299.67341779]\n",
            " [11650.46368104]\n",
            " [11650.46368104]\n",
            " [22960.2266193 ]\n",
            " [22960.2266193 ]\n",
            " [22541.94786139]\n",
            " [22871.3437977 ]\n",
            " [24797.17598452]\n",
            " [22871.3437977 ]\n",
            " [13044.72620741]\n",
            " [15574.84631065]\n",
            " [13044.72620741]\n",
            " [16690.25633175]\n",
            " [12962.37722334]\n",
            " [15574.84631065]\n",
            " [12962.37722334]\n",
            " [16690.25633175]\n",
            " [13044.72620741]\n",
            " [15574.84631065]\n",
            " [16589.52444461]\n",
            " [ 5854.82086747]\n",
            " [ 9755.26871606]\n",
            " [ 6273.09962539]\n",
            " [ 6273.09962539]\n",
            " [ 7239.92596565]\n",
            " [12079.30484831]\n",
            " [19371.82035644]\n",
            " [18266.92615179]\n",
            " [26377.63772644]\n",
            " [26377.63772644]\n",
            " [26377.63772644]\n",
            " [13817.75055413]\n",
            " [13817.75055413]\n",
            " [13143.1428859 ]\n",
            " [13143.1428859 ]\n",
            " [13143.1428859 ]\n",
            " [13143.1428859 ]\n",
            " [15480.7199931 ]\n",
            " [15480.7199931 ]\n",
            " [ 7439.09967043]\n",
            " [ 9630.31511963]\n",
            " [ 9630.31511963]\n",
            " [ 9164.32803215]\n",
            " [ 9722.0330427 ]\n",
            " [10355.5531998 ]\n",
            " [10837.4430638 ]\n",
            " [11473.79832237]\n",
            " [ 9861.45929534]\n",
            " [10494.97945244]\n",
            " [10279.73805325]\n",
            " [12310.3558382 ]\n",
            " [ 6128.33300558]\n",
            " [ 6267.75925822]\n",
            " [ 6267.75925822]\n",
            " [ 6407.18551086]\n",
            " [ 7104.31677405]\n",
            " [ 7104.31677405]\n",
            " [ 7461.70120236]\n",
            " [ 7461.70120236]\n",
            " [ 8474.92407686]\n",
            " [ 6941.23529784]\n",
            " [ 6067.43867599]\n",
            " [ 7879.97996028]\n",
            " [ 7879.97996028]\n",
            " [ 7879.97996028]\n",
            " [ 7879.97996028]\n",
            " [10306.43988908]\n",
            " [10306.43988908]\n",
            " [16132.66964617]\n",
            " [16132.66964617]\n",
            " [16132.66964617]\n",
            " [16132.66964617]\n",
            " [16132.66964617]\n",
            " [16132.66964617]\n",
            " [11686.29780591]\n",
            " [ 9593.16919942]\n",
            " [11965.15031119]\n",
            " [11965.15031119]\n",
            " [11965.15031119]\n",
            " [21843.41161705]\n",
            " [21843.41161705]\n",
            " [21637.53915686]\n",
            " [20429.00623153]\n",
            " [ 5344.8707794 ]\n",
            " [ 9826.98355871]\n",
            " [ 5344.8707794 ]\n",
            " [ 9826.98355871]\n",
            " [ 9826.98355871]\n",
            " [ 6561.36766257]\n",
            " [10723.45344457]\n",
            " [10729.9872821 ]\n",
            " [10729.9872821 ]\n",
            " [15513.64728444]\n",
            " [ 7119.07267312]\n",
            " [10368.78579274]\n",
            " [15724.90670471]\n",
            " [15724.90670471]\n",
            " [15724.90670471]\n",
            " [15724.90670471]\n",
            " [17208.45362052]\n",
            " [17208.45362052]\n",
            " [15724.90670471]\n",
            " [18037.21209639]\n",
            " [21112.83316971]\n",
            " [16018.35019117]\n",
            " [16143.18546262]]\n"
          ]
        }
      ]
    },
    {
      "cell_type": "code",
      "source": [
        "from sklearn.metrics import mean_squared_error\n",
        "mse = mean_squared_error(df['price'], Yhat)\n",
        "print('The mean square error of price and predicted value is: ', mse)"
      ],
      "metadata": {
        "colab": {
          "base_uri": "https://localhost:8080/"
        },
        "id": "-qf_o_vdYLZy",
        "outputId": "b2f8c244-e22c-4a71-d82f-6e7c1f805166"
      },
      "execution_count": null,
      "outputs": [
        {
          "output_type": "stream",
          "name": "stdout",
          "text": [
            "The mean square error of price and predicted value is:  13062139.168632774\n"
          ]
        }
      ]
    },
    {
      "cell_type": "code",
      "source": [
        "from sklearn.metrics import mean_squared_error\n",
        "mse = mean_squared_error(df['price'], Yhat)\n",
        "print('The mean square error of price and predicted value is: ', mse)"
      ],
      "metadata": {
        "colab": {
          "base_uri": "https://localhost:8080/"
        },
        "id": "Twgu27Dq7ehF",
        "outputId": "6913dfc9-963b-454e-f3c2-d854b15919e1"
      },
      "execution_count": null,
      "outputs": [
        {
          "output_type": "stream",
          "name": "stdout",
          "text": [
            "The mean square error of price and predicted value is:  13062139.168632774\n"
          ]
        }
      ]
    },
    {
      "cell_type": "code",
      "source": [
        "# PART V: MULTIVARIATE REGRESSION AND TRAIN/TEST SPLIT\n",
        "\n",
        "#STEP 0: ADD VARIABLES: engine-size, horsepower AS REGRESSORS\n",
        "#STEP 1:  PARTITION DATASET INTO TRAIN DATASET AND TEST DATASET  (70%, 30%) https://scikit-learn.org/stable/modules/generated/sklearn.model_selection.train_test_split.html\n",
        "#STEP 2: FIT MODEL ON TRAIN PARTITION\n",
        "#STEP 3:  EVALUATE MODEL (MSE) ON TEST PARTITION USING FUNCTIONS FROM sklearn.metrics https://scikit-learn.org/stable/modules/generated/sklearn.metrics.r2_score.html\n",
        "\n",
        "#sklearn.metrics.r2_score r2_score mean_squared_error"
      ],
      "metadata": {
        "id": "jE2JvKz8pFhb"
      },
      "execution_count": null,
      "outputs": []
    },
    {
      "cell_type": "code",
      "source": [
        "from sklearn.metrics import r2_score\n",
        "r2_score(Y,Yhat)"
      ],
      "metadata": {
        "colab": {
          "base_uri": "https://localhost:8080/"
        },
        "id": "-fCFcP5OpFqi",
        "outputId": "35704e3d-bc52-4072-c7a5-e923ae5be6bc"
      },
      "execution_count": null,
      "outputs": [
        {
          "output_type": "execute_result",
          "data": {
            "text/plain": [
              "0.7921420253198568"
            ]
          },
          "metadata": {},
          "execution_count": 18
        }
      ]
    }
  ]
}