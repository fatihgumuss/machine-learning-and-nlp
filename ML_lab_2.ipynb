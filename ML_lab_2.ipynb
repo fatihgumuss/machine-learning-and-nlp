{
  "nbformat": 4,
  "nbformat_minor": 0,
  "metadata": {
    "colab": {
      "provenance": [],
      "authorship_tag": "ABX9TyODiLdOWNbO50curMeqjsG7",
      "include_colab_link": true
    },
    "kernelspec": {
      "name": "python3",
      "display_name": "Python 3"
    },
    "language_info": {
      "name": "python"
    }
  },
  "cells": [
    {
      "cell_type": "markdown",
      "metadata": {
        "id": "view-in-github",
        "colab_type": "text"
      },
      "source": [
        "<a href=\"https://colab.research.google.com/github/fatihgumuss/machine-learning-and-nlp/blob/main/ML_lab_2.ipynb\" target=\"_parent\"><img src=\"https://colab.research.google.com/assets/colab-badge.svg\" alt=\"Open In Colab\"/></a>"
      ]
    },
    {
      "cell_type": "code",
      "execution_count": null,
      "metadata": {
        "id": "anZOamDIe-22"
      },
      "outputs": [],
      "source": [
        "import numpy as np\n",
        "import pandas as pd\n",
        "import matplotlib.pyplot as plt\n",
        "import seaborn as sns"
      ]
    },
    {
      "cell_type": "code",
      "source": [
        "dataset_url = 'https://raw.githubusercontent.com/mmazurek-wat/ml-class/master/mlclass-ex1/ex1data2.txt'\n",
        "data2 = pd.read_csv(dataset_url, names=['Size', 'Bedrooms', 'Price'])\n",
        "data2.head()"
      ],
      "metadata": {
        "colab": {
          "base_uri": "https://localhost:8080/",
          "height": 206
        },
        "id": "dHzACv8xfL70",
        "outputId": "a14609b4-2a95-4525-a87e-17803779e0cf"
      },
      "execution_count": null,
      "outputs": [
        {
          "output_type": "execute_result",
          "data": {
            "text/plain": [
              "   Size  Bedrooms   Price\n",
              "0  2104         3  399900\n",
              "1  1600         3  329900\n",
              "2  2400         3  369000\n",
              "3  1416         2  232000\n",
              "4  3000         4  539900"
            ],
            "text/html": [
              "\n",
              "  <div id=\"df-7599dfcb-b3e9-4c43-b789-2a79887f4599\">\n",
              "    <div class=\"colab-df-container\">\n",
              "      <div>\n",
              "<style scoped>\n",
              "    .dataframe tbody tr th:only-of-type {\n",
              "        vertical-align: middle;\n",
              "    }\n",
              "\n",
              "    .dataframe tbody tr th {\n",
              "        vertical-align: top;\n",
              "    }\n",
              "\n",
              "    .dataframe thead th {\n",
              "        text-align: right;\n",
              "    }\n",
              "</style>\n",
              "<table border=\"1\" class=\"dataframe\">\n",
              "  <thead>\n",
              "    <tr style=\"text-align: right;\">\n",
              "      <th></th>\n",
              "      <th>Size</th>\n",
              "      <th>Bedrooms</th>\n",
              "      <th>Price</th>\n",
              "    </tr>\n",
              "  </thead>\n",
              "  <tbody>\n",
              "    <tr>\n",
              "      <th>0</th>\n",
              "      <td>2104</td>\n",
              "      <td>3</td>\n",
              "      <td>399900</td>\n",
              "    </tr>\n",
              "    <tr>\n",
              "      <th>1</th>\n",
              "      <td>1600</td>\n",
              "      <td>3</td>\n",
              "      <td>329900</td>\n",
              "    </tr>\n",
              "    <tr>\n",
              "      <th>2</th>\n",
              "      <td>2400</td>\n",
              "      <td>3</td>\n",
              "      <td>369000</td>\n",
              "    </tr>\n",
              "    <tr>\n",
              "      <th>3</th>\n",
              "      <td>1416</td>\n",
              "      <td>2</td>\n",
              "      <td>232000</td>\n",
              "    </tr>\n",
              "    <tr>\n",
              "      <th>4</th>\n",
              "      <td>3000</td>\n",
              "      <td>4</td>\n",
              "      <td>539900</td>\n",
              "    </tr>\n",
              "  </tbody>\n",
              "</table>\n",
              "</div>\n",
              "      <button class=\"colab-df-convert\" onclick=\"convertToInteractive('df-7599dfcb-b3e9-4c43-b789-2a79887f4599')\"\n",
              "              title=\"Convert this dataframe to an interactive table.\"\n",
              "              style=\"display:none;\">\n",
              "        \n",
              "  <svg xmlns=\"http://www.w3.org/2000/svg\" height=\"24px\"viewBox=\"0 0 24 24\"\n",
              "       width=\"24px\">\n",
              "    <path d=\"M0 0h24v24H0V0z\" fill=\"none\"/>\n",
              "    <path d=\"M18.56 5.44l.94 2.06.94-2.06 2.06-.94-2.06-.94-.94-2.06-.94 2.06-2.06.94zm-11 1L8.5 8.5l.94-2.06 2.06-.94-2.06-.94L8.5 2.5l-.94 2.06-2.06.94zm10 10l.94 2.06.94-2.06 2.06-.94-2.06-.94-.94-2.06-.94 2.06-2.06.94z\"/><path d=\"M17.41 7.96l-1.37-1.37c-.4-.4-.92-.59-1.43-.59-.52 0-1.04.2-1.43.59L10.3 9.45l-7.72 7.72c-.78.78-.78 2.05 0 2.83L4 21.41c.39.39.9.59 1.41.59.51 0 1.02-.2 1.41-.59l7.78-7.78 2.81-2.81c.8-.78.8-2.07 0-2.86zM5.41 20L4 18.59l7.72-7.72 1.47 1.35L5.41 20z\"/>\n",
              "  </svg>\n",
              "      </button>\n",
              "      \n",
              "  <style>\n",
              "    .colab-df-container {\n",
              "      display:flex;\n",
              "      flex-wrap:wrap;\n",
              "      gap: 12px;\n",
              "    }\n",
              "\n",
              "    .colab-df-convert {\n",
              "      background-color: #E8F0FE;\n",
              "      border: none;\n",
              "      border-radius: 50%;\n",
              "      cursor: pointer;\n",
              "      display: none;\n",
              "      fill: #1967D2;\n",
              "      height: 32px;\n",
              "      padding: 0 0 0 0;\n",
              "      width: 32px;\n",
              "    }\n",
              "\n",
              "    .colab-df-convert:hover {\n",
              "      background-color: #E2EBFA;\n",
              "      box-shadow: 0px 1px 2px rgba(60, 64, 67, 0.3), 0px 1px 3px 1px rgba(60, 64, 67, 0.15);\n",
              "      fill: #174EA6;\n",
              "    }\n",
              "\n",
              "    [theme=dark] .colab-df-convert {\n",
              "      background-color: #3B4455;\n",
              "      fill: #D2E3FC;\n",
              "    }\n",
              "\n",
              "    [theme=dark] .colab-df-convert:hover {\n",
              "      background-color: #434B5C;\n",
              "      box-shadow: 0px 1px 3px 1px rgba(0, 0, 0, 0.15);\n",
              "      filter: drop-shadow(0px 1px 2px rgba(0, 0, 0, 0.3));\n",
              "      fill: #FFFFFF;\n",
              "    }\n",
              "  </style>\n",
              "\n",
              "      <script>\n",
              "        const buttonEl =\n",
              "          document.querySelector('#df-7599dfcb-b3e9-4c43-b789-2a79887f4599 button.colab-df-convert');\n",
              "        buttonEl.style.display =\n",
              "          google.colab.kernel.accessAllowed ? 'block' : 'none';\n",
              "\n",
              "        async function convertToInteractive(key) {\n",
              "          const element = document.querySelector('#df-7599dfcb-b3e9-4c43-b789-2a79887f4599');\n",
              "          const dataTable =\n",
              "            await google.colab.kernel.invokeFunction('convertToInteractive',\n",
              "                                                     [key], {});\n",
              "          if (!dataTable) return;\n",
              "\n",
              "          const docLinkHtml = 'Like what you see? Visit the ' +\n",
              "            '<a target=\"_blank\" href=https://colab.research.google.com/notebooks/data_table.ipynb>data table notebook</a>'\n",
              "            + ' to learn more about interactive tables.';\n",
              "          element.innerHTML = '';\n",
              "          dataTable['output_type'] = 'display_data';\n",
              "          await google.colab.output.renderOutput(dataTable, element);\n",
              "          const docLink = document.createElement('div');\n",
              "          docLink.innerHTML = docLinkHtml;\n",
              "          element.appendChild(docLink);\n",
              "        }\n",
              "      </script>\n",
              "    </div>\n",
              "  </div>\n",
              "  "
            ]
          },
          "metadata": {},
          "execution_count": 2
        }
      ]
    },
    {
      "cell_type": "code",
      "source": [
        "X = data2.drop(['Price'], axis=1)  ## Assign all but the price field to the independent variable X\n",
        "y = data2['Price'] ## Assign the price field to the dependent variable y\n",
        "m=len(y) ## m is the length of the training set"
      ],
      "metadata": {
        "id": "TUcLU7sSfndT"
      },
      "execution_count": null,
      "outputs": []
    },
    {
      "cell_type": "code",
      "source": [
        "def featureNormalize(X):\n",
        "    '''\n",
        "    This function takes the features as input and\n",
        "    returns the normalized values, the mean, as well\n",
        "    as the standard deviation for each feature.\n",
        "    '''\n",
        "\n",
        "    mu = np.mean(X, axis=0)\n",
        "    sigma = np.std(X, axis=0)\n",
        "    X_norm = (X - mu)/sigma\n",
        "    return X_norm, mu, sigma\n",
        "\n",
        "\n",
        "X, mean, std = featureNormalize(X) ## We call the function over the features"
      ],
      "metadata": {
        "id": "HWkoS2QIhaj_"
      },
      "execution_count": null,
      "outputs": []
    },
    {
      "cell_type": "code",
      "source": [
        "X = np.append(np.ones([m,1]), X, axis=1) ## Append the bias term (field containing all ones) to X.\n",
        "y = np.array(y).reshape(-1,1) ## reshape y to mx1 array.\n",
        "theta = np.zeros([3,1]) ## Initialize theta (the coefficient) to a 3x1 zero vector."
      ],
      "metadata": {
        "id": "PrP1KovDj42e"
      },
      "execution_count": null,
      "outputs": []
    },
    {
      "cell_type": "code",
      "source": [
        "def computeCostMulti(X,y, theta):\n",
        "    '''\n",
        "    This function takes in the the values for\n",
        "    the training set as well as initial values\n",
        "    of theta and returns the cost(J).\n",
        "    '''\n",
        "    m = len(y)  # number of training examples\n",
        "    h = X.dot(theta)  # hypothesis or predicted values\n",
        "    J = 1/(2*m) * np.sum((h-y)**2)  # cost function\n",
        "    return J\n",
        "\n",
        "cost = computeCostMulti(X,y,theta) ## Call the function\n",
        "\n",
        "print(cost)"
      ],
      "metadata": {
        "colab": {
          "base_uri": "https://localhost:8080/"
        },
        "id": "E0j67blc8yI3",
        "outputId": "f0b6a104-2e2a-4417-95f2-f89fa1c36579"
      },
      "execution_count": null,
      "outputs": [
        {
          "output_type": "stream",
          "name": "stdout",
          "text": [
            "65591548106.45744\n"
          ]
        }
      ]
    },
    {
      "cell_type": "code",
      "source": [
        "def gradientDescentMulti(X, y, theta, alpha, iter):\n",
        "    '''\n",
        "    This function takes in the values of the training set,\n",
        "    as well the intial theta values(coefficients), the\n",
        "    learning rate, and the number of iterations. The output\n",
        "    will be the a new set of coefficeients(theta), optimized\n",
        "    for making predictions, as well as the array of the cost\n",
        "    as it depreciates on each iteration.\n",
        "    '''\n",
        "    J_history = []  # array for storing the cost values on each iteration\n",
        "    m = len(y)  # length of the training set\n",
        "    for i in range(iter):  # loop for iter iterations\n",
        "        h = X.dot(theta)  # hypothesis or predicted values\n",
        "        theta = theta - alpha/m * X.T.dot(h-y)  # gradient descent step\n",
        "        J_history.append(computeCostMulti(X, y, theta))  # append the cost to the J_history array\n",
        "    return theta, J_history  # return the final values of theta and the J_history array\n",
        "\n",
        "\n",
        "iter = 400  # initialize the iteration parameter\n",
        "alpha = 0.01  # initialize the learning rate\n",
        "\n",
        "# call the function and pass in the parameters to compute new coefficients\n",
        "new_theta, J_history = gradientDescentMulti(X, y, theta, alpha, iter)\n",
        "\n",
        "print(new_theta)\n"
      ],
      "metadata": {
        "colab": {
          "base_uri": "https://localhost:8080/"
        },
        "id": "UrhpqtCS9L9C",
        "outputId": "76c9b392-b60a-45d3-edad-7f64a369cd26"
      },
      "execution_count": null,
      "outputs": [
        {
          "output_type": "stream",
          "name": "stdout",
          "text": [
            "[[334302.06399328]\n",
            " [ 99411.44947359]\n",
            " [  3267.01285407]]\n"
          ]
        }
      ]
    },
    {
      "cell_type": "code",
      "source": [
        "new_cost = computeCostMulti(X,y,new_theta) ## We call the function again, but use the new coefficients.\n",
        "print(new_cost)"
      ],
      "metadata": {
        "colab": {
          "base_uri": "https://localhost:8080/"
        },
        "id": "JIy1uk-T-yBJ",
        "outputId": "ab000d6a-e0c5-4dbc-dd07-cd37decd687d"
      },
      "execution_count": null,
      "outputs": [
        {
          "output_type": "stream",
          "name": "stdout",
          "text": [
            "2105448288.6292474\n"
          ]
        }
      ]
    },
    {
      "cell_type": "code",
      "source": [
        "plt.plot(J_history)\n",
        "plt.ylabel('Cost J')\n",
        "plt.xlabel('Number of Iterations')\n",
        "plt.title('Minimizing Cost Using Gradient Descent')"
      ],
      "metadata": {
        "colab": {
          "base_uri": "https://localhost:8080/",
          "height": 489
        },
        "id": "LrvpKmc5-4KB",
        "outputId": "4c9faf74-096d-4dda-e444-e268b1730fe7"
      },
      "execution_count": null,
      "outputs": [
        {
          "output_type": "execute_result",
          "data": {
            "text/plain": [
              "Text(0.5, 1.0, 'Minimizing Cost Using Gradient Descent')"
            ]
          },
          "metadata": {},
          "execution_count": 9
        },
        {
          "output_type": "display_data",
          "data": {
            "text/plain": [
              "<Figure size 640x480 with 1 Axes>"
            ],
            "image/png": "[encoded data removed]"
          },
          "metadata": {}
        }
      ]
    },
    {
      "cell_type": "code",
      "source": [
        "## Call the gradient descent algorithm with a different learning rate on each occassion.\n",
        "## All other parameters remain constant\n",
        "theta_1, J_history_1 = gradientDescentMulti(X, y, theta, 0.5, 50)\n",
        "theta_2, J_history_2 = gradientDescentMulti(X, y, theta, 0.1, 50)\n",
        "theta_3, J_history_3 = gradientDescentMulti(X, y, theta, 0.03, 50)\n",
        "theta_4, J_history_4 = gradientDescentMulti(X, y, theta, 0.01, 50)\n",
        "theta_5, J_history_5 = gradientDescentMulti(X, y, theta, 0.003, 50)\n",
        "theta_6, J_history_6 = gradientDescentMulti(X, y, theta, 0.001, 50)"
      ],
      "metadata": {
        "id": "RPG_BFYf_A7d"
      },
      "execution_count": null,
      "outputs": []
    },
    {
      "cell_type": "code",
      "source": [
        "## Plot the cost againt number of iterations for each learning rate\n",
        "plt.plot(J_history_1, label='0.5')\n",
        "plt.plot(J_history_2, label='0.1')\n",
        "plt.plot(J_history_3, label='0.03')\n",
        "plt.plot(J_history_4, label='0.01')\n",
        "plt.plot(J_history_5, label='0.003')\n",
        "plt.plot(J_history_6, label='0.001')\n",
        "plt.title('Testing Different Learning Rates')\n",
        "plt.xlabel('Number of Iterations')\n",
        "plt.ylabel('Cost J')\n",
        "plt.legend(bbox_to_anchor=(1.05, 1.0))"
      ],
      "metadata": {
        "colab": {
          "base_uri": "https://localhost:8080/",
          "height": 489
        },
        "id": "x48DGIhW_EC5",
        "outputId": "5a0e56a9-9c74-4ac2-c690-45123bba3736"
      },
      "execution_count": null,
      "outputs": [
        {
          "output_type": "execute_result",
          "data": {
            "text/plain": [
              "<matplotlib.legend.Legend at 0x7f0ee57d2ee0>"
            ]
          },
          "metadata": {},
          "execution_count": 11
        },
        {
          "output_type": "display_data",
          "data": {
            "text/plain": [
              "<Figure size 640x480 with 1 Axes>"
            ],
            "image/png": "[encoded data removed]"
          },
          "metadata": {}
        }
      ]
    },
    {
      "cell_type": "code",
      "source": [
        "## Using the best learning rate (0.3), we run gradient descent again to find the coefficients.\n",
        "#TODO: Replace None with learning rate value\n",
        "theta, J_history = gradientDescentMulti(X, y, theta, 0.3, 1500)"
      ],
      "metadata": {
        "id": "L3_yd9pqABUd"
      },
      "execution_count": null,
      "outputs": []
    },
    {
      "cell_type": "code",
      "source": [
        "print(theta) ## Print the new theta values."
      ],
      "metadata": {
        "colab": {
          "base_uri": "https://localhost:8080/"
        },
        "id": "chQgFFJEAk3F",
        "outputId": "5caf7eea-47dc-40a7-e7a9-335b675947c0"
      },
      "execution_count": null,
      "outputs": [
        {
          "output_type": "stream",
          "name": "stdout",
          "text": [
            "[[340412.65957447]\n",
            " [109447.79646964]\n",
            " [ -6578.35485416]]\n"
          ]
        }
      ]
    },
    {
      "cell_type": "code",
      "source": [
        "## TO PREDICT THE PRICE OF A HOUSE WITH 1650 SQUARE FEET AND 3 BEDROOMS\n",
        "#First normalize the features\n",
        "X = np.array([1650, 3]) ## Convert X to a numpy array\n",
        "\n",
        "X = (X - mean[0]) / np.std(X)  ## Normalize X by subtracting the mean of the distribution from X, and then divide by the standard deviation.\n",
        "\n",
        "X = np.insert(X, 0, 1) ## Add the bias term\n",
        "\n",
        "X = X.reshape(1, -1) ## Reshape X to a 1x3 array\n",
        "\n",
        "print(X) ## Print X to see waht it currently looks like"
      ],
      "metadata": {
        "colab": {
          "base_uri": "https://localhost:8080/"
        },
        "id": "0Cu9ZdFsBWSd",
        "outputId": "8f8f1533-7da1-4bcd-ecec-eb3a698eda5f"
      },
      "execution_count": null,
      "outputs": [
        {
          "output_type": "stream",
          "name": "stdout",
          "text": [
            "[[ 1.         -0.42584196 -2.42584196]]\n"
          ]
        }
      ]
    },
    {
      "cell_type": "code",
      "source": [
        "def prediction(X, theta):\n",
        "    '''\n",
        "    This function takes in the features of the house\n",
        "    as well as the coefficients, and returns the\n",
        "    predicted price.\n",
        "    '''\n",
        "    return np.dot(X,theta)"
      ],
      "metadata": {
        "id": "2_5s-D-mB3GY"
      },
      "execution_count": null,
      "outputs": []
    },
    {
      "cell_type": "code",
      "source": [
        "pred = prediction(X, theta) ## Call the function\n",
        "print(pred)\n"
      ],
      "metadata": {
        "colab": {
          "base_uri": "https://localhost:8080/"
        },
        "id": "tQyT7aiqB7w-",
        "outputId": "f337c7ae-8298-486a-fb79-fc89319033a1"
      },
      "execution_count": null,
      "outputs": [
        {
          "output_type": "stream",
          "name": "stdout",
          "text": [
            "[[309763.24501542]]\n"
          ]
        }
      ]
    }
  ]
}