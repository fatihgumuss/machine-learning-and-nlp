{
  "metadata": {
    "kernelspec": {
      "language": "python",
      "display_name": "Python 3",
      "name": "python3"
    },
    "language_info": {
      "name": "python",
      "version": "3.10.10",
      "mimetype": "text/x-python",
      "codemirror_mode": {
        "name": "ipython",
        "version": 3
      },
      "pygments_lexer": "ipython3",
      "nbconvert_exporter": "python",
      "file_extension": ".py"
    },
    "colab": {
      "provenance": [],
      "include_colab_link": true
    }
  },
  "nbformat_minor": 0,
  "nbformat": 4,
  "cells": [
    {
      "cell_type": "markdown",
      "metadata": {
        "id": "view-in-github",
        "colab_type": "text"
      },
      "source": [
        "<a href=\"https://colab.research.google.com/github/fatihgumuss/machine-learning-and-nlp/blob/main/mnist_simple_ann_from_scratch.ipynb\" target=\"_parent\"><img src=\"https://colab.research.google.com/assets/colab-badge.svg\" alt=\"Open In Colab\"/></a>"
      ]
    },
    {
      "cell_type": "markdown",
      "source": [
        "#Neural Network backpropagation algorithm  assignment  "
      ],
      "metadata": {
        "id": "LJ9ZewPxEj8E"
      }
    },
    {
      "cell_type": "markdown",
      "source": [
        "Complete implementation of neural network learning algorithm - replace None statement with code.\n",
        "\n",
        "Neural Network architecture:\n",
        "- two  layers\n",
        "- you can freely set the number of neurons in hidden layer  (shape of W1, and consequently W2)."
      ],
      "metadata": {
        "id": "Uoz5ltQGE5Rm"
      }
    },
    {
      "cell_type": "code",
      "source": [
        "\n",
        "import numpy as np # linear algebra\n",
        "from keras.datasets import mnist\n",
        "\n",
        "(X_train, Y_train), (X_test, Y_test) = mnist.load_data()\n",
        "\n"
      ],
      "metadata": {
        "_uuid": "8f2839f25d086af736a60e9eeb907d3b93b6e0e5",
        "_cell_guid": "b1076dfc-b9ad-4769-8c92-a6c4dae69d19",
        "execution": {
          "iopub.status.busy": "2023-05-31T22:41:34.518829Z",
          "iopub.execute_input": "2023-05-31T22:41:34.519335Z",
          "iopub.status.idle": "2023-05-31T22:41:34.531053Z",
          "shell.execute_reply.started": "2023-05-31T22:41:34.519299Z",
          "shell.execute_reply": "2023-05-31T22:41:34.529007Z"
        },
        "trusted": true,
        "colab": {
          "base_uri": "https://localhost:8080/"
        },
        "id": "wimg0eMB-V6y",
        "outputId": "7b483af2-9dea-468f-f504-a5439f473838"
      },
      "execution_count": null,
      "outputs": [
        {
          "output_type": "stream",
          "name": "stdout",
          "text": [
            "Downloading data from https://storage.googleapis.com/tensorflow/tf-keras-datasets/mnist.npz\n",
            "11490434/11490434 [==============================] - 1s 0us/step\n"
          ]
        }
      ]
    },
    {
      "cell_type": "code",
      "source": [
        "import matplotlib.pyplot as plt\n",
        "import matplotlib.cm as cm\n",
        "for i in range(9):\n",
        "    plt.subplot(3, 3, i+1)\n",
        "    plt.imshow(X_train[i], cmap='gray')\n",
        "    plt.axis(\"off\")"
      ],
      "metadata": {
        "colab": {
          "base_uri": "https://localhost:8080/",
          "height": 406
        },
        "id": "2Jtagji--nii",
        "outputId": "9d6a892e-28e3-41cb-dd34-39adc743a1ac"
      },
      "execution_count": null,
      "outputs": [
        {
          "output_type": "display_data",
          "data": {
            "text/plain": [
              "<Figure size 640x480 with 9 Axes>"
            ],
            "image/png": "[encoded data removed]"
          },
          "metadata": {}
        }
      ]
    },
    {
      "cell_type": "code",
      "source": [
        "X_train[0]"
      ],
      "metadata": {
        "id": "saGMxn1trD49"
      },
      "execution_count": null,
      "outputs": []
    },
    {
      "cell_type": "code",
      "source": [],
      "metadata": {
        "colab": {
          "base_uri": "https://localhost:8080/"
        },
        "id": "ohofdEVJrJRz",
        "outputId": "ad0e51aa-be41-4348-c7a7-a9ba5ad9c55e"
      },
      "execution_count": null,
      "outputs": [
        {
          "output_type": "execute_result",
          "data": {
            "text/plain": [
              "(784,)"
            ]
          },
          "metadata": {},
          "execution_count": 8
        }
      ]
    },
    {
      "cell_type": "code",
      "source": [
        "X_train = X_train.reshape(60000, 784)\n",
        "X_test = X_test.reshape(10000, 784)\n",
        "\n",
        "X_train = X_train/255.0\n",
        "X_test = X_test/255.0\n",
        "\n",
        "print(\"X_train.shape\", X_train.shape)\n",
        "print(\"X_test.shape\", X_test.shape)"
      ],
      "metadata": {
        "execution": {
          "iopub.status.busy": "2023-05-31T22:41:34.801978Z",
          "iopub.execute_input": "2023-05-31T22:41:34.802809Z",
          "iopub.status.idle": "2023-05-31T22:41:34.807581Z",
          "shell.execute_reply.started": "2023-05-31T22:41:34.802763Z",
          "shell.execute_reply": "2023-05-31T22:41:34.806516Z"
        },
        "trusted": true,
        "colab": {
          "base_uri": "https://localhost:8080/"
        },
        "id": "ZorpvvFW-V63",
        "outputId": "9cca030d-4d0c-4432-a77a-27c00b650786"
      },
      "execution_count": null,
      "outputs": [
        {
          "output_type": "stream",
          "name": "stdout",
          "text": [
            "X_train.shape (60000, 784)\n",
            "X_test.shape (10000, 784)\n"
          ]
        }
      ]
    },
    {
      "cell_type": "markdown",
      "source": [
        "##### Necessary Fuctions for Gradient Descent"
      ],
      "metadata": {
        "id": "y4x5HBlL-V6-"
      }
    },
    {
      "cell_type": "code",
      "source": [
        "def init_params():\n",
        "    # TODO: initialize weight with np.random.normal\n",
        "    W1 = None\n",
        "    b1 = None\n",
        "    W2 = None\n",
        "    b2 = None\n",
        "    return W1, b1, W2, b2\n",
        "\n",
        "def RelU(Z):\n",
        "    return np.maximum(0, Z)\n",
        "\n",
        "def softmax(Z):\n",
        "    exp = np.exp(Z - np.max(Z))\n",
        "    return exp / exp.sum(axis=0)\n",
        "\n",
        "\n",
        "\n",
        "def forward_prop(W1, b1, W2, b2, X):\n",
        "    Z1 = None\n",
        "    A1 = None\n",
        "    Z2 = None\n",
        "    A2 = None\n",
        "    return Z1, A1, Z2, A2\n",
        "\n",
        "\n",
        "def one_hot(Y):\n",
        "    #TODO: implement one-hot encoding function 5 -> [0 0 0 0 0 1 0 0 0 0]   8 - > [0 0 0 0 0 0 0 0  0 1 0]\n",
        "    one_hot_Y =  None\n",
        "    return one_hot_Y\n",
        "\n",
        "def deriv_Relu(Z):\n",
        "    return Z>0\n",
        "\n",
        "def back_prop(Z1, A1, Z2, A2, W2, X, Y, loss):\n",
        "\n",
        "\n",
        "    #convert Y to one-hot encoding\n",
        "    one_hot_Y = None\n",
        "    #calculate loss and append to global variable loss\n",
        "    loss_value = None\n",
        "    loss.append( loss_value )\n",
        "\n",
        "\n",
        "    dZ2 = None\n",
        "\n",
        "    dW2 = None\n",
        "\n",
        "    db2 = None\n",
        "\n",
        "    dZ1 = None\n",
        "\n",
        "    dW1 = None\n",
        "\n",
        "    db1 = None\n",
        "\n",
        "    return dW1, db1, dW2, db2\n",
        "\n",
        "def update_params(W1, b1, W2, b2, dW1, db1, dW2, db2, alpha):\n",
        "\n",
        "    W1 = None\n",
        "    b1 = None\n",
        "    W2 = None\n",
        "    b2 = None\n",
        "\n",
        "    return W1, b1, W2, b2\n",
        ""
      ],
      "metadata": {
        "execution": {
          "iopub.status.busy": "2023-05-31T22:57:28.772977Z",
          "iopub.execute_input": "2023-05-31T22:57:28.773758Z",
          "iopub.status.idle": "2023-05-31T22:57:28.800266Z",
          "shell.execute_reply.started": "2023-05-31T22:57:28.773708Z",
          "shell.execute_reply": "2023-05-31T22:57:28.798811Z"
        },
        "trusted": true,
        "id": "tooZZwDB-V6_"
      },
      "execution_count": null,
      "outputs": []
    },
    {
      "cell_type": "code",
      "source": [
        "def get_predictions(A2):\n",
        "    return np.argmax(A2,0)\n",
        "\n",
        "def  get_accuracy(predictions, Y):\n",
        "    print(predictions, Y)\n",
        "\n",
        "    return np.sum(predictions==Y)/Y.size\n",
        "\n",
        "def gradient_descent(X, Y, iterations, alpha, loss, ite):\n",
        "    W1, b1, W2, b2 = init_params()\n",
        "    for i in range(iterations):\n",
        "        Z1, A1, Z2, A2 = forward_prop(W1, b1, W2, b2, X)\n",
        "        dW1, db1, dW2, db2 = back_prop(Z1, A1, Z2, A2, W2, X, Y, loss)\n",
        "        W1, b1, W2, b2 = update_params(W1, b1, W2, b2, dW1, db1, dW2, db2, alpha)\n",
        "        ite.append(i)\n",
        "        if(i%10==0):\n",
        "            print(f\"iteration:{i}\")\n",
        "            print(\"Accuracy\", get_accuracy(get_predictions(A2), Y))\n",
        "    return W1, b1, W2, b2\n",
        ""
      ],
      "metadata": {
        "execution": {
          "iopub.status.busy": "2023-05-31T22:57:31.035906Z",
          "iopub.execute_input": "2023-05-31T22:57:31.036833Z",
          "iopub.status.idle": "2023-05-31T22:57:31.052675Z",
          "shell.execute_reply.started": "2023-05-31T22:57:31.036775Z",
          "shell.execute_reply": "2023-05-31T22:57:31.050453Z"
        },
        "trusted": true,
        "id": "CIvesbcz-V7B"
      },
      "execution_count": null,
      "outputs": []
    },
    {
      "cell_type": "code",
      "source": [
        "loss = []\n",
        "ite = []\n",
        "W1, b1, W2, b2 = gradient_descent(X_train, Y_train, 200, 0.5, loss, ite)"
      ],
      "metadata": {
        "id": "cvY9OBKcGuZj"
      },
      "execution_count": null,
      "outputs": []
    },
    {
      "cell_type": "markdown",
      "source": [
        "Test prediction on single image from  dataset"
      ],
      "metadata": {
        "id": "WlNG-FVQGx0x"
      }
    },
    {
      "cell_type": "code",
      "source": [
        "sample_input_X = None\n",
        "_, _, _, A2 = forward_prop(W1, b1, W2, b2, sample_input_X)"
      ],
      "metadata": {
        "execution": {
          "iopub.status.busy": "2023-05-31T22:58:28.612905Z",
          "iopub.execute_input": "2023-05-31T22:58:28.614096Z",
          "iopub.status.idle": "2023-05-31T22:58:28.624660Z",
          "shell.execute_reply.started": "2023-05-31T22:58:28.614016Z",
          "shell.execute_reply": "2023-05-31T22:58:28.621779Z"
        },
        "trusted": true,
        "id": "Z2J5ePgu-V7D"
      },
      "execution_count": null,
      "outputs": []
    },
    {
      "cell_type": "code",
      "source": [
        "A2"
      ],
      "metadata": {
        "execution": {
          "iopub.status.busy": "2023-05-31T22:58:29.291155Z",
          "iopub.execute_input": "2023-05-31T22:58:29.291883Z",
          "iopub.status.idle": "2023-05-31T22:58:29.304738Z",
          "shell.execute_reply.started": "2023-05-31T22:58:29.291839Z",
          "shell.execute_reply": "2023-05-31T22:58:29.302759Z"
        },
        "trusted": true,
        "id": "F46RPtmm-V7D",
        "outputId": "fd9aa499-01b2-4cf7-fe7e-53e4e28798b2"
      },
      "execution_count": null,
      "outputs": [
        {
          "execution_count": 256,
          "output_type": "execute_result",
          "data": {
            "text/plain": "array([[8.89775847e-01],\n       [4.84702206e-09],\n       [1.73522761e-02],\n       [5.67026021e-04],\n       [6.53062924e-03],\n       [2.39604493e-02],\n       [1.41693505e-02],\n       [1.88852555e-03],\n       [1.89004947e-02],\n       [2.68553964e-02]])"
          },
          "metadata": {}
        }
      ]
    },
    {
      "cell_type": "code",
      "source": [
        "def make_predictions(X, W1, b1, W2, b2):\n",
        "    _, _, _, A2 = forward_prop(W1, b1, W2, b2, X)\n",
        "    predictions = get_predictions(A2)\n",
        "    return predictions\n",
        "\n",
        "def test_prediction(index, W1, b1, W2, b2):\n",
        "    current_image = None\n",
        "    prediction = None\n",
        "    label = Y_train[index]\n",
        "    print(\"Prediction: \", prediction)\n",
        "    print(\"Label: \", label)\n",
        "\n",
        "    current_image = current_image.reshape((28, 28)) * 255\n",
        "    plt.gray()\n",
        "    plt.imshow(current_image, interpolation='nearest')\n",
        "    plt.show()"
      ],
      "metadata": {
        "execution": {
          "iopub.status.busy": "2023-05-31T22:58:31.219723Z",
          "iopub.execute_input": "2023-05-31T22:58:31.220918Z",
          "iopub.status.idle": "2023-05-31T22:58:31.235404Z",
          "shell.execute_reply.started": "2023-05-31T22:58:31.220865Z",
          "shell.execute_reply": "2023-05-31T22:58:31.233398Z"
        },
        "trusted": true,
        "id": "5F_JZ9tg-V7E"
      },
      "execution_count": null,
      "outputs": []
    },
    {
      "cell_type": "code",
      "source": [
        "test_prediction(2, W1, b1, W2, b2)\n",
        "test_prediction(13, W1, b1, W2, b2)\n",
        "test_prediction(143, W1, b1, W2, b2)\n",
        "test_prediction(100, W1, b1, W2, b2)"
      ],
      "metadata": {
        "execution": {
          "iopub.status.busy": "2023-05-31T22:58:32.570339Z",
          "iopub.execute_input": "2023-05-31T22:58:32.570963Z",
          "iopub.status.idle": "2023-05-31T22:58:33.729738Z",
          "shell.execute_reply.started": "2023-05-31T22:58:32.570916Z",
          "shell.execute_reply": "2023-05-31T22:58:33.728328Z"
        },
        "trusted": true,
        "id": "oCObgTpn-V7E",
        "outputId": "429c7e55-1639-4f9a-c88f-02994155ddb3"
      },
      "execution_count": null,
      "outputs": [
        {
          "name": "stdout",
          "text": "Prediction:  [1]\nLabel:  1\n",
          "output_type": "stream"
        },
        {
          "output_type": "display_data",
          "data": {
            "text/plain": "<Figure size 640x480 with 1 Axes>",
            "image/png": "[encoded data removed]"
          },
          "metadata": {}
        },
        {
          "name": "stdout",
          "text": "Prediction:  [3]\nLabel:  3\n",
          "output_type": "stream"
        },
        {
          "output_type": "display_data",
          "data": {
            "text/plain": "<Figure size 640x480 with 1 Axes>",
            "image/png": "[encoded data removed]"
          },
          "metadata": {}
        },
        {
          "name": "stdout",
          "text": "Prediction:  [7]\nLabel:  7\n",
          "output_type": "stream"
        },
        {
          "output_type": "display_data",
          "data": {
            "text/plain": "<Figure size 640x480 with 1 Axes>",
            "image/png": "[encoded data removed]"
          },
          "metadata": {}
        },
        {
          "name": "stdout",
          "text": "Prediction:  [5]\nLabel:  5\n",
          "output_type": "stream"
        },
        {
          "output_type": "display_data",
          "data": {
            "text/plain": "<Figure size 640x480 with 1 Axes>",
            "image/png": "[encoded data removed]"
          },
          "metadata": {}
        }
      ]
    },
    {
      "cell_type": "code",
      "source": [
        "test_predictions = make_predictions(X_test, W1, b1, W2, b2)\n",
        "get_accuracy(test_predictions, Y_test)"
      ],
      "metadata": {
        "execution": {
          "iopub.status.busy": "2023-05-31T22:58:46.448146Z",
          "iopub.execute_input": "2023-05-31T22:58:46.448696Z",
          "iopub.status.idle": "2023-05-31T22:58:46.498036Z",
          "shell.execute_reply.started": "2023-05-31T22:58:46.448656Z",
          "shell.execute_reply": "2023-05-31T22:58:46.494062Z"
        },
        "trusted": true,
        "id": "Py2g2tjk-V7F"
      },
      "execution_count": null,
      "outputs": []
    },
    {
      "cell_type": "markdown",
      "source": [
        "accuracy is approx 91%, meaning model works well and is properly generalized..."
      ],
      "metadata": {
        "id": "Q6FUak4r-V7G"
      }
    },
    {
      "cell_type": "code",
      "source": [
        "plt.plot(ite, loss)"
      ],
      "metadata": {
        "execution": {
          "iopub.status.busy": "2023-05-31T22:58:52.368241Z",
          "iopub.execute_input": "2023-05-31T22:58:52.368828Z",
          "iopub.status.idle": "2023-05-31T22:58:52.688840Z",
          "shell.execute_reply.started": "2023-05-31T22:58:52.368787Z",
          "shell.execute_reply": "2023-05-31T22:58:52.686606Z"
        },
        "trusted": true,
        "id": "GxVuB50F-V7G",
        "outputId": "74c9df5e-602d-4b6d-95ea-530203422eef"
      },
      "execution_count": null,
      "outputs": [
        {
          "execution_count": 260,
          "output_type": "execute_result",
          "data": {
            "text/plain": "[<matplotlib.lines.Line2D at 0x785f4b12ae60>]"
          },
          "metadata": {}
        },
        {
          "output_type": "display_data",
          "data": {
            "text/plain": "<Figure size 640x480 with 1 Axes>",
            "image/png": "[encoded data removed]"
          },
          "metadata": {}
        }
      ]
    }
  ]
}