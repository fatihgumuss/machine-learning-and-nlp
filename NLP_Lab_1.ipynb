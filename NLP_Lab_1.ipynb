{
  "cells": [
    {
      "cell_type": "markdown",
      "metadata": {
        "id": "view-in-github",
        "colab_type": "text"
      },
      "source": [
        "<a href=\"https://colab.research.google.com/github/fatihgumuss/machine-learning-and-nlp/blob/main/NLP_Lab_1.ipynb\" target=\"_parent\"><img src=\"https://colab.research.google.com/assets/colab-badge.svg\" alt=\"Open In Colab\"/></a>"
      ]
    },
    {
      "cell_type": "code",
      "execution_count": null,
      "metadata": {
        "colab": {
          "background_save": true,
          "base_uri": "https://localhost:8080/"
        },
        "id": "hHb4uLaLKnfP",
        "outputId": "ec60f65b-a3b1-4856-e271-846b28ec6db4"
      },
      "outputs": [
        {
          "name": "stderr",
          "output_type": "stream",
          "text": [
            "[nltk_data] Downloading package stopwords to /root/nltk_data...\n",
            "[nltk_data]   Unzipping corpora/stopwords.zip.\n",
            "[nltk_data] Downloading package punkt to /root/nltk_data...\n",
            "[nltk_data]   Unzipping tokenizers/punkt.zip.\n"
          ]
        }
      ],
      "source": [
        "import nltk\n",
        "import requests\n",
        "from nltk.corpus import stopwords\n",
        "from nltk.tokenize import word_tokenize\n",
        "import string\n",
        "import collections\n",
        "import matplotlib.pyplot as plt\n",
        "from sklearn.feature_extraction.text import TfidfVectorizer\n",
        "import numpy as np\n",
        "from sklearn.metrics.pairwise import cosine_similarity\n",
        "from sklearn.decomposition import PCA\n",
        "nltk.download('stopwords')\n",
        "nltk.download('punkt')\n",
        "corpus_urls = [\n",
        "    \"https://www.gutenberg.org/files/1342/1342-0.txt\",\n",
        "    \"https://www.gutenberg.org/files/74/74-0.txt\",\n",
        "    \"https://www.gutenberg.org/cache/epub/1497/pg1497.txt\",\n",
        "    \"https://www.gutenberg.org/files/1661/1661-0.txt\",\n",
        "    \"https://www.gutenberg.org/cache/epub/345/pg345.txt\"\n",
        "\n",
        "]\n"
      ]
    },
    {
      "cell_type": "code",
      "execution_count": null,
      "metadata": {
        "id": "ryxzc5-_99Pv"
      },
      "outputs": [],
      "source": [
        "counter = collections.Counter()\n",
        "\n",
        "for url in corpus_urls:\n",
        "    response = requests.get(url)\n",
        "    text = response.content.decode('utf-8')\n",
        "    tokens = word_tokenize(text)\n",
        "    tokens = [token.lower() for token in tokens if token.isalnum() and token.lower() not in stopwords.words('english')]\n",
        "    counter.update(tokens)\n",
        "    freq_dist = nltk.FreqDist(counter)\n",
        "\n",
        "    top_words = freq_dist.most_common(20)\n",
        "\n",
        "    words, freqs = zip(*top_words)\n",
        "\n",
        "    plt.bar(words, freqs)\n",
        "    plt.xticks(rotation=90)\n",
        "    plt.title(url)\n",
        "    plt.xlabel(\"Samples\")\n",
        "    plt.ylabel(\"Counts\")\n",
        "    plt.show()\n",
        "\n"
      ]
    },
    {
      "cell_type": "code",
      "execution_count": null,
      "metadata": {
        "colab": {
          "background_save": true
        },
        "id": "AQ5gNa-l-Drs"
      },
      "outputs": [],
      "source": [
        "\n"
      ]
    },
    {
      "cell_type": "code",
      "execution_count": null,
      "metadata": {
        "id": "IO9Xty12_HMW"
      },
      "outputs": [],
      "source": [
        "\n",
        "vectorizer = TfidfVectorizer(stop_words='english')\n",
        "tfidf_matrix = vectorizer.fit_transform(corpus_urls)\n",
        "similarity_matrix = cosine_similarity(tfidf_matrix)\n",
        "print(similarity_matrix)\n",
        "\n",
        "np.fill_diagonal(similarity_matrix, 0)\n",
        "\n",
        "most_similar = np.unravel_index(similarity_matrix.argmax(), similarity_matrix.shape)\n",
        "most_different = np.unravel_index(similarity_matrix.argmin(), similarity_matrix.shape)\n",
        "\n",
        "print(\"The most similar documents are\", most_similar)\n",
        "print(\"The most different documents are\", most_different)"
      ]
    },
    {
      "cell_type": "code",
      "execution_count": null,
      "metadata": {
        "id": "teAd0_DxT33c"
      },
      "outputs": [],
      "source": [
        "x=[x[0] for x in pca_output]\n",
        "y=[x[1] for x in pca_output]\n",
        "\n",
        "fig, ax  = plt.subplots(figsize=(6,6))\n",
        "ax.scatter(x,y)\n",
        "\n",
        "for i, url in (enumerate (corpus_urls)):\n",
        "  ax.annotate(url, (x[i], y[i]))"
      ]
    },
    {
      "cell_type": "code",
      "execution_count": null,
      "metadata": {
        "id": "3pms0hYZLMJJ"
      },
      "outputs": [],
      "source": [
        "X = np.array([[-1, -1], [-2, -1], [-3, -2], [1, 1], [2, 1], [3, 2]])\n",
        "pca = PCA(n_components=2)\n",
        "pca.fit(X)\n",
        "\n",
        "print(pca.explained_variance_ratio_)\n",
        "\n",
        "print(pca.singular_values_)"
      ]
    }
  ],
  "metadata": {
    "colab": {
      "provenance": [],
      "authorship_tag": "ABX9TyOV0X61XeLMdczyTrjadAAN",
      "include_colab_link": true
    },
    "kernelspec": {
      "display_name": "Python 3",
      "name": "python3"
    },
    "language_info": {
      "name": "python"
    }
  },
  "nbformat": 4,
  "nbformat_minor": 0
}