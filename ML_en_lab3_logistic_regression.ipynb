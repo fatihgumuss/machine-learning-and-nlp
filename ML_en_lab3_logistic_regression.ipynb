{
  "nbformat": 4,
  "nbformat_minor": 0,
  "metadata": {
    "colab": {
      "provenance": [],
      "include_colab_link": true
    },
    "kernelspec": {
      "name": "python3",
      "display_name": "Python 3"
    },
    "language_info": {
      "name": "python"
    }
  },
  "cells": [
    {
      "cell_type": "markdown",
      "metadata": {
        "id": "view-in-github",
        "colab_type": "text"
      },
      "source": [
        "<a href=\"https://colab.research.google.com/github/fatihgumuss/machine-learning-and-nlp/blob/main/ML_en_lab3_logistic_regression.ipynb\" target=\"_parent\"><img src=\"https://colab.research.google.com/assets/colab-badge.svg\" alt=\"Open In Colab\"/></a>"
      ]
    },
    {
      "cell_type": "markdown",
      "source": [
        "Data set:\n",
        "https://archive.ics.uci.edu/ml/datasets/spambase"
      ],
      "metadata": {
        "id": "9jdjjjMy-Eox"
      }
    },
    {
      "cell_type": "markdown",
      "source": [
        "1. Split dataset randomly into training and test partition  (70% and 30% of the records)\n",
        "2. Build logistic regression model on training data (https://scikit-learn.org/stable/modules/generated/sklearn.linear_model.LogisticRegression.html|)\n",
        "3. What is the value of the loss function on training dataset ?\n",
        "4. Assess performance of the model:\n",
        "* confusion matrix\n",
        "* precision\n",
        "* recall\n",
        "5. Take first five examples from test dataset. For each record:\n",
        "* assess  predicted probability of being a spam\n"
      ],
      "metadata": {
        "id": "cbAXseRc-RM_"
      }
    },
    {
      "cell_type": "code",
      "execution_count": null,
      "metadata": {
        "colab": {
          "base_uri": "https://localhost:8080/"
        },
        "id": "sFuataBy70rA",
        "outputId": "abf9c350-e8b6-4cab-e9f0-227146d9a2ad"
      },
      "outputs": [
        {
          "output_type": "stream",
          "name": "stdout",
          "text": [
            "        0     1     2    3     4     5     6     7     8     9   ...     48  \\\n",
            "0     0.00  0.64  0.64  0.0  0.32  0.00  0.00  0.00  0.00  0.00  ...  0.000   \n",
            "1     0.21  0.28  0.50  0.0  0.14  0.28  0.21  0.07  0.00  0.94  ...  0.000   \n",
            "2     0.06  0.00  0.71  0.0  1.23  0.19  0.19  0.12  0.64  0.25  ...  0.010   \n",
            "3     0.00  0.00  0.00  0.0  0.63  0.00  0.31  0.63  0.31  0.63  ...  0.000   \n",
            "4     0.00  0.00  0.00  0.0  0.63  0.00  0.31  0.63  0.31  0.63  ...  0.000   \n",
            "...    ...   ...   ...  ...   ...   ...   ...   ...   ...   ...  ...    ...   \n",
            "4596  0.31  0.00  0.62  0.0  0.00  0.31  0.00  0.00  0.00  0.00  ...  0.000   \n",
            "4597  0.00  0.00  0.00  0.0  0.00  0.00  0.00  0.00  0.00  0.00  ...  0.000   \n",
            "4598  0.30  0.00  0.30  0.0  0.00  0.00  0.00  0.00  0.00  0.00  ...  0.102   \n",
            "4599  0.96  0.00  0.00  0.0  0.32  0.00  0.00  0.00  0.00  0.00  ...  0.000   \n",
            "4600  0.00  0.00  0.65  0.0  0.00  0.00  0.00  0.00  0.00  0.00  ...  0.000   \n",
            "\n",
            "         49   50     51     52     53     54   55    56  57  \n",
            "0     0.000  0.0  0.778  0.000  0.000  3.756   61   278   1  \n",
            "1     0.132  0.0  0.372  0.180  0.048  5.114  101  1028   1  \n",
            "2     0.143  0.0  0.276  0.184  0.010  9.821  485  2259   1  \n",
            "3     0.137  0.0  0.137  0.000  0.000  3.537   40   191   1  \n",
            "4     0.135  0.0  0.135  0.000  0.000  3.537   40   191   1  \n",
            "...     ...  ...    ...    ...    ...    ...  ...   ...  ..  \n",
            "4596  0.232  0.0  0.000  0.000  0.000  1.142    3    88   0  \n",
            "4597  0.000  0.0  0.353  0.000  0.000  1.555    4    14   0  \n",
            "4598  0.718  0.0  0.000  0.000  0.000  1.404    6   118   0  \n",
            "4599  0.057  0.0  0.000  0.000  0.000  1.147    5    78   0  \n",
            "4600  0.000  0.0  0.125  0.000  0.000  1.250    5    40   0  \n",
            "\n",
            "[4601 rows x 58 columns]\n"
          ]
        }
      ],
      "source": [
        "import pandas as pd\n",
        "import requests\n",
        "spam_data = requests.get('https://archive.ics.uci.edu/ml/machine-learning-databases/spambase/spambase.data')\n",
        "\n",
        "file = open(\"spam.data\", \"wb\")\n",
        "file.write(spam_data.content)\n",
        "file.close()\n",
        "\n",
        "df = pd.read_csv(\"spam.data\", header =None)\n",
        "print(df)\n"
      ]
    },
    {
      "cell_type": "code",
      "source": [],
      "metadata": {
        "id": "CfLykVLu8K3U"
      },
      "execution_count": null,
      "outputs": []
    },
    {
      "cell_type": "code",
      "source": [],
      "metadata": {
        "id": "B6IJKFNQ-__M"
      },
      "execution_count": null,
      "outputs": []
    }
  ]
}